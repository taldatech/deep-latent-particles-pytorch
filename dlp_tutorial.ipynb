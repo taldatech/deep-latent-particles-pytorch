{
 "cells": [
  {
   "cell_type": "markdown",
   "id": "369899b7",
   "metadata": {},
   "source": [
    "# <img src=\"https://img.icons8.com/fluency/96/000000/particles.png\" style=\"height:50px;display:inline\"> Deep Latent Particles - Tutorial\n",
    "---\n",
    "\n",
    "Tal Daniel\n",
    "\n",
    "\n",
    "\n",
    "<center>\n",
    "    <a href=\"https://colab.research.google.com/github/taldatech/deep-latent-particles-pytorch/blob/main/dlp_tutorial.ipynb\"><img src=\"https://colab.research.google.com/assets/colab-badge.svg\" alt=\"Open In Colab\"/></a>\n",
    "</center>\n",
    "\n",
    "* Paper: [**Unsupervised Image Representation Learning with Deep Latent Particles**, Tal Daniel and Aviv Tamar, ICML 2022](https://arxiv.org/)\n",
    "* GitHub: <a href=\"https://github.com/taldatech/deep-latent-particles-pytorch\">deep-latent-particles-pytorch</a>\n",
    "* Wepage: <a href=\"https://taldatech.github.io/deep-latent-particles-web/\">ICML 2022 - Deep Latent Particles</a>"
   ]
  },
  {
   "cell_type": "markdown",
   "id": "65753934",
   "metadata": {},
   "source": [
    "<img src=\"https://raw.githubusercontent.com/taldatech/deep-latent-particles-web/main/assets/clevrer_manip_1.gif\" style=\"height:250px\">"
   ]
  },
  {
   "cell_type": "markdown",
   "id": "e73bfcc4",
   "metadata": {},
   "source": [
    "### <img src=\"https://img.icons8.com/color/96/000000/loading.png\" style=\"height:50px;display:inline\"> Running Instructions\n",
    "---\n",
    "* This Jupyter Notebook can be opened locally with Anaconda, or online via Google Colab.\n",
    "* To run online, go to https://colab.research.google.com/ and drag-and-drop the `dlp_tutorial.ipynb` file.\n",
    "    * On Colab, note the \"directory\" icon on the left, logs, figures and checkpoints are saved in this directory.\n",
    "* To run the training on the image dataset, it is better to have a GPU. In Google Cola select `Runtime->Change runtime type->GPU`."
   ]
  },
  {
   "cell_type": "markdown",
   "id": "7558396b",
   "metadata": {},
   "source": [
    "### <img src=\"https://img.icons8.com/color/96/000000/software-installer.png\" style=\"height:50px;display:inline\"> Requirements\n",
    "---\n",
    "* If running locally, make sure to set up the environment, preferably with <a href=\"https://anaconda.org/\">Anaconda</a> by running `conda env create -f environment17/19.yml` or with `pip` by running `pip install - r requirements17/19.txt`.\n",
    "* If running online on <a href=\"https://colab.research.google.com\">Google Colab</a>, run the following cell to clone the repository."
   ]
  },
  {
   "cell_type": "code",
   "execution_count": 1,
   "id": "20fd2fb9",
   "metadata": {},
   "outputs": [
    {
     "name": "stdout",
     "output_type": "stream",
     "text": [
      "Cloning into 'deep-latent-particles-pytorch'...\n",
      "remote: Enumerating objects: 155, done.\u001b[K\n",
      "remote: Counting objects: 100% (155/155), done.\u001b[K\n",
      "remote: Compressing objects: 100% (106/106), done.\u001b[K\n",
      "remote: Total 155 (delta 67), reused 127 (delta 43), pack-reused 0\u001b[K\n",
      "Receiving objects: 100% (155/155), 18.21 MiB | 9.09 MiB/s, done.\n",
      "Resolving deltas: 100% (67/67), done.\n"
     ]
    }
   ],
   "source": [
    "# only run this cell if running on Google Colab\n",
    "!git clone https://github.com/taldatech/deep-latent-particles-pytorch.git\n",
    "!cd deep-latent-particles-pytorch"
   ]
  },
  {
   "cell_type": "markdown",
   "id": "2bef333e",
   "metadata": {},
   "source": [
    "### <img src=\"https://img.icons8.com/bubbles/50/000000/checklist.png\" style=\"height:50px;display:inline\"> Agenda\n",
    "---\n",
    "* [Variational Autoencoders (VAEs)](#-Variational-Autoencoders-(VAEs))\n",
    "* [Soft-IntroVAE Objectives](#-Soft-IntroVAE-Objectives)\n",
    "* [Image Generation Experiments](#-Image-Generation-Experiments)\n",
    "    * [Image Generation Experiments - Architectures](#Image-Generation-Experiments---Architectures)\n",
    "    * [Image Generation Experiments - Algorithm and Train Function](#Image-Generation-Experiments---Algorithm-and-Train-Function)\n",
    "* [Credits](#-Credits)"
   ]
  },
  {
   "cell_type": "markdown",
   "id": "7b30b711",
   "metadata": {},
   "source": [
    "### <img src=\"https://img.icons8.com/bubbles/50/000000/mention.png\" style=\"height:50px;display:inline\"> Introduction\n",
    "---\n",
    "* In this tutorial, we will give a brief overview of the deep latent particles (DLP) framework. \n",
    "* DLP is a new representation of visual data that disentangles object position from appearance. \n",
    "* DLP decomposes the visual input into low-dimensional latent ``particles'', where each particle is described by its spatial location and features of its surrounding region. \n",
    "* DLP is trained with a variational autoencoder (VAE) objective with a special prior for particle positions based on a spatial-softmax architecture, and a modification of the evidence lower bound loss inspired by the Chamfer distance between particles."
   ]
  },
  {
   "cell_type": "markdown",
   "id": "955e3035",
   "metadata": {},
   "source": [
    "## <img src=\"https://img.icons8.com/dusk/64/000000/prize.png\" style=\"height:50px;display:inline\"> Credits\n",
    "---\n",
    "* Icons from <a href=\"https://icons8.com/\">Icon8.com</a> - https://icons8.com"
   ]
  }
 ],
 "metadata": {
  "kernelspec": {
   "display_name": "Python 3 (ipykernel)",
   "language": "python",
   "name": "python3"
  },
  "language_info": {
   "codemirror_mode": {
    "name": "ipython",
    "version": 3
   },
   "file_extension": ".py",
   "mimetype": "text/x-python",
   "name": "python",
   "nbconvert_exporter": "python",
   "pygments_lexer": "ipython3",
   "version": "3.7.11"
  }
 },
 "nbformat": 4,
 "nbformat_minor": 5
}
