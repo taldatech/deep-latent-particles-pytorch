{
 "cells": [
  {
   "cell_type": "markdown",
   "id": "369899b7",
   "metadata": {},
   "source": [
    "# <img src=\"https://img.icons8.com/fluency/96/000000/particles.png\" style=\"height:50px;display:inline\"> Deep Latent Particles - Tutorial\n",
    "---\n",
    "\n",
    "Tal Daniel\n",
    "\n",
    "\n",
    "\n",
    "<center>\n",
    "    <a href=\"https://colab.research.google.com/github/taldatech/deep-latent-particles-pytorch/blob/main/dlp_tutorial.ipynb\"><img src=\"https://colab.research.google.com/assets/colab-badge.svg\" alt=\"Open In Colab\"/></a>\n",
    "</center>\n",
    "\n",
    "* Paper: [**Unsupervised Image Representation Learning with Deep Latent Particles**, Tal Daniel and Aviv Tamar, ICML 2022](https://arxiv.org/)\n",
    "* GitHub: <a href=\"https://github.com/taldatech/deep-latent-particles-pytorch\">deep-latent-particles-pytorch</a>\n",
    "* Wepage: <a href=\"https://taldatech.github.io/deep-latent-particles-web/\">ICML 2022 - Deep Latent Particles</a>"
   ]
  },
  {
   "cell_type": "markdown",
   "id": "65753934",
   "metadata": {},
   "source": [
    "<img src=\"https://raw.githubusercontent.com/taldatech/deep-latent-particles-web/main/assets/clevrer_manip_1.gif\" style=\"height:250px\">"
   ]
  },
  {
   "cell_type": "markdown",
   "id": "e73bfcc4",
   "metadata": {},
   "source": [
    "### <img src=\"https://img.icons8.com/color/96/000000/loading.png\" style=\"height:50px;display:inline\"> Running Instructions\n",
    "---\n",
    "* This Jupyter Notebook can be opened locally with Anaconda, or online via Google Colab.\n",
    "* To run online, go to https://colab.research.google.com/ and drag-and-drop the `dlp_tutorial.ipynb` file.\n",
    "    * On Colab, note the \"directory\" icon on the left, logs, figures and checkpoints are saved in this directory.\n",
    "* To run the training on the image dataset, it is better to have a GPU. In Google Cola select `Runtime->Change runtime type->GPU`."
   ]
  },
  {
   "cell_type": "markdown",
   "id": "7558396b",
   "metadata": {},
   "source": [
    "### <img src=\"https://img.icons8.com/color/96/000000/software-installer.png\" style=\"height:50px;display:inline\"> Requirements\n",
    "---\n",
    "* If running locally, make sure to set up the environment, preferably with <a href=\"https://anaconda.org/\">Anaconda</a> by running `conda env create -f environment17/19.yml` or with `pip` by running `pip install - r requirements17/19.txt`.\n",
    "* If running online on <a href=\"https://colab.research.google.com\">Google Colab</a>, run the following cell to clone the repository."
   ]
  },
  {
   "cell_type": "code",
   "execution_count": 1,
   "id": "20fd2fb9",
   "metadata": {},
   "outputs": [
    {
     "name": "stdout",
     "output_type": "stream",
     "text": [
      "Cloning into 'deep-latent-particles-pytorch'...\n",
      "remote: Enumerating objects: 155, done.\u001b[K\n",
      "remote: Counting objects: 100% (155/155), done.\u001b[K\n",
      "remote: Compressing objects: 100% (106/106), done.\u001b[K\n",
      "remote: Total 155 (delta 67), reused 127 (delta 43), pack-reused 0\u001b[K\n",
      "Receiving objects: 100% (155/155), 18.21 MiB | 9.09 MiB/s, done.\n",
      "Resolving deltas: 100% (67/67), done.\n"
     ]
    }
   ],
   "source": [
    "# only run this cell if running on Google Colab\n",
    "!git clone https://github.com/taldatech/deep-latent-particles-pytorch.git\n",
    "!cd deep-latent-particles-pytorch\n",
    "!pip install -r requirements19.txt"
   ]
  },
  {
   "cell_type": "markdown",
   "id": "2bef333e",
   "metadata": {},
   "source": [
    "### <img src=\"https://img.icons8.com/bubbles/50/000000/checklist.png\" style=\"height:50px;display:inline\"> Agenda\n",
    "---\n",
    "* [Introduction](#-Introduction)\n",
    "* [Random Shapes Dataset](#-Random-Shapes-Dataset)\n",
    "* [The Model](#-The-Model)\n",
    "* [Training and Optimization](#-Training-and-Optimization)\n",
    "* [Visualization and Manipulation](#Visualization-and-Manipulation)\n",
    "* [Where to Next?](#--Where-to-Next?)\n",
    "* [Credits](#-Credits)"
   ]
  },
  {
   "cell_type": "code",
   "execution_count": 7,
   "id": "4a50ceeb",
   "metadata": {},
   "outputs": [],
   "source": [
    "# imports\n",
    "import numpy as np\n",
    "import matplotlib.pyplot as plt\n",
    "from tqdm.auto import tqdm\n",
    "# torch\n",
    "import torch\n",
    "import torch.nn.functional as F\n",
    "import torch.nn as nn\n",
    "from torch.utils.data import DataLoader\n",
    "import torchvision.utils as vutils\n",
    "import torch.optim as optim\n",
    "# model\n",
    "from models import KeyPointVAE\n",
    "# util functions\n",
    "# from utils.util_func import reparameterize, get_kp_mask_from_gmap, create_masks_fast,\n",
    "#plot_keypoints_on_image_batch, create_masks_fast, prepare_logdir, save_config, log_line,\\\n",
    "#     plot_bb_on_image_batch_from_masks_nms\n",
    "from utils.util_func import *\n",
    "from utils.loss_functions import ChamferLossKL, calc_kl, calc_reconstruction_loss, VGGDistance\n",
    "# datasets\n",
    "from datasets.shapes_ds import generate_shape_dataset_torch"
   ]
  },
  {
   "cell_type": "markdown",
   "id": "7b30b711",
   "metadata": {},
   "source": [
    "### <img src=\"https://img.icons8.com/bubbles/50/000000/mention.png\" style=\"height:50px;display:inline\"> Introduction\n",
    "---\n",
    "* In this tutorial, we will give a brief overview of the deep latent particles (DLP) framework. \n",
    "* DLP is a new representation of visual data that disentangles object position from appearance. \n",
    "* DLP decomposes the visual input into low-dimensional latent ``particles'', where each particle is described by its spatial location ($z_p$) and features ($z_{\\alpha}$) of its surrounding region. $$ \\{(z_p^i, z_{\\alpha}^i) \\}_{i=1}^K $$\n",
    "* DLP is trained with a variational autoencoder (VAE) objective with a special prior for particle positions based on a spatial-softmax architecture, and a modification of the evidence lower bound (ELBO) loss inspired by the Chamfer distance between particles.\n",
    "* DLP comes in two flavors depending on the scene type: **(1) Masked model** and **(2) Object-based model**.\n",
    "* **Masked model**: designed for non-object scenes (e.g., faces from CelebA), PointNet++ and Gaussian maps model the local regions around the particles, and the rest (e.g., the background) is propagated from the encdoer ($\\Phi_{bypass}$). \n",
    "* **Object-based model**: designed for object-based scenes (e.g., CLEVRER), PointNet++ models the global regions (e.g., the background) and Gaussian maps (optionally) and a separate Glimpse decoder model the objects and their masks.\n",
    "* In this tutorial, *we will focus on the object-based model*."
   ]
  },
  {
   "cell_type": "markdown",
   "id": "78de7d4b",
   "metadata": {},
   "source": [
    "### <img src=\"https://img.icons8.com/external-icongeek26-linear-colour-icongeek26/64/000000/external-shapes-graphic-design-icongeek26-linear-colour-icongeek26.png\" style=\"height:50px;display:inline\"> Random Shapes Dataset\n",
    "---\n",
    "* First, we will take a look at data for the tutorial: images of random shapes of different sizes and colors."
   ]
  },
  {
   "cell_type": "code",
   "execution_count": 7,
   "id": "8451c3c6",
   "metadata": {},
   "outputs": [
    {
     "data": {
      "application/vnd.jupyter.widget-view+json": {
       "model_id": "47d7734568ac4865914d344fa5109269",
       "version_major": 2,
       "version_minor": 0
      },
      "text/plain": [
       "  0%|          | 0/5 [00:00<?, ?it/s]"
      ]
     },
     "metadata": {},
     "output_type": "display_data"
    },
    {
     "name": "stdout",
     "output_type": "stream",
     "text": [
      "sample_images: <torch.utils.data.dataset.TensorDataset object at 0x00000190288A3F88>\n"
     ]
    },
    {
     "data": {
      "image/png": "[encoded data removed]",
      "text/plain": [
       "<Figure size 720x720 with 5 Axes>"
      ]
     },
     "metadata": {
      "needs_background": "light"
     },
     "output_type": "display_data"
    }
   ],
   "source": [
    "sample_images = generate_shape_dataset_torch(img_size=64, num_images=5)  # [5, 3, 64, 64]\n",
    "print(f'sample_images: {sample_images}')\n",
    "# plot\n",
    "fig = plt.figure(figsize=(10, 10))\n",
    "for i in range(len(sample_images)):\n",
    "    ax = fig.add_subplot(1, len(sample_images), i + 1)\n",
    "    ax.imshow(sample_images[i][0].permute(1, 2, 0).data.cpu())\n",
    "    ax.set_axis_off()"
   ]
  },
  {
   "cell_type": "markdown",
   "id": "bdb28d7a",
   "metadata": {},
   "source": [
    "### <img src=\"https://img.icons8.com/external-flaticons-flat-flat-icons/64/000000/external-neural-network-the-future-flaticons-flat-flat-icons.png\" style=\"height:50px;display:inline\"> The Model\n",
    "---\n",
    "* The model has 3 main components: encoder network, prior network, and decoder network(s)."
   ]
  },
  {
   "cell_type": "markdown",
   "id": "6b33e3f3",
   "metadata": {},
   "source": [
    "#### Encoder\n",
    "---\n",
    "<img src=\"https://raw.githubusercontent.com/taldatech/deep-latent-particles-web/main/assets/dlp_encoder.gif\" style=\"height:250px\">"
   ]
  },
  {
   "cell_type": "markdown",
   "id": "01c36c26",
   "metadata": {},
   "source": [
    "The encoder is composed of two components:\n",
    "1. **Position encoder**: outputs keypoints -- the spatial location $z_p = (x,y)$ of interesting areas, where $(x,y)$ are the coordinates of pixels.\n",
    "2. **Appearance encoder**: extracts patches (or glimpses) of pre-determined size centered around $z_p$ and encodes them to latent variables $z_{\\alpha}$."
   ]
  },
  {
   "cell_type": "code",
   "execution_count": null,
   "id": "7f2dc96d",
   "metadata": {},
   "outputs": [],
   "source": [
    "# PSEUDOCODE - DO NOT RUN\n",
    "# posterior\n",
    "enc_out = self.encode(x, return_heatmap=True, mask=mask)  # position encoder\n",
    "mu, logvar, kp_heatmap, mu_features, logvar_features, obj_on, _ = enc_out\n",
    "# obj_on is a transperency/presence variable, valeus between [0, 1]\n",
    "# kp_heatmap is a low dimension featuer map, output of the cnn - used to extract visual features later\n",
    "# mu/logvar_features = None [placeholders]\n",
    "# sample\n",
    "z = reparameterize(mu, logvar)\n",
    "# convert [x, y] to gaussian maps (gmaps) -- will be used in the decoder\n",
    "gmap_1_fg = self.to_gauss_map(z[:, :-1], self.features_dim, self.features_dim)\n",
    "# convert gmaps to binary mask -- to cover up parts of the visual feature maps\n",
    "fg_masks_sep = get_kp_mask_from_gmap(gmap_1_fg, threshold=self.mask_threshold,\n",
    "                                     binary=True, elementwise=True).detach()\n",
    "fg_masks = fg_masks_sep.sum(1, keepdim=True).clamp(0, 1)\n",
    "bg_masks = 1 - fg_masks\n",
    "masks_sep = torch.cat([fg_masks_sep, bg_masks], dim=1)\n",
    "# extract visual features around the particles\n",
    "feat_source = x if self.use_object_dec else kp_heatmap.detach()\n",
    "# feat_source is the source from which we extract regions (x is the original image)\n",
    "obj_enc_out = self.encode_object_features_sep(feat_source, z[:, :-1], kp_heatmap.detach(), masks_sep.detach())\n",
    "mu_features, logvar_features, cropped_objects = obj_enc_out[0], obj_enc_out[1], obj_enc_out[2]\n",
    "# note that the last particle is reserved for the bg and is located at (0, 0) [the center of the image]\n",
    "# this is why we use z[:, :-1] when we extract features for the particles"
   ]
  },
  {
   "cell_type": "markdown",
   "id": "10a2a02c",
   "metadata": {},
   "source": [
    "#### Prior\n",
    "---\n",
    "* The prior addresses the question: what are the interesting areas in the image?\n",
    "* It constrains the model such that the output of the position encoder is actually spatial positions and not just random values between $[-1, 1]$.\n",
    "* We extract points-of-intereset in the image by applying spatial-Softmax (SSM) over feature maps extracted from **patches** in the image. \n",
    "* We term the set of extracted prior keypoints as keypoint proposals.\n",
    "* Since we output one keypoint per patch, we may end up with a large set of keypoints, not all are informative.\n",
    "* To filter out some proposal keypoints, we either randomly sample from this set or use a heuristic where we take the top-K most distant keypoints from the center of the patch.\n",
    "* The reasoning behind the heuristic is that SSM is based on averaging, and contant areas in the image (e.g., a solid color patch) are not informative and SSM will result in a keypoint in the center of the patch."
   ]
  },
  {
   "cell_type": "code",
   "execution_count": null,
   "id": "e5e2d00a",
   "metadata": {},
   "outputs": [],
   "source": [
    "# PSEUDOCODE - DO NOT RUN\n",
    "# prior\n",
    "kp_p = self.prior(x_prior, global_kp=True)  \n",
    "# global_kp = True returns the coordinates in the whole image. \n",
    "# Otherwise, returns the local coordinates inside the patch.\n",
    "kp_p = kp_p.view(x_prior.shape[0], -1, 2)  # [batch_size, n_kp_total, 2]\n",
    "# filter proposals by distance to the patches' center\n",
    "dist_from_center = self.prior.get_distance_from_patch_centers(kp_p, global_kp=True)\n",
    "_, indices = torch.topk(dist_from_center, k=self.n_kp_prior, dim=-1, largest=True)\n",
    "batch_indices = torch.arange(kp_p.shape[0]).view(-1, 1).to(kp_p.device)\n",
    "kp_p = kp_p[batch_indices, indices]\n",
    "# random cnn features for prior also work\n",
    "kp_p = kp_p.detach()\n",
    "# alternatively, just sample random kp\n",
    "# kp_p = kp_p[:, torch.randperm(kp_p.shape[1])[:self.n_kp_prior]]"
   ]
  },
  {
   "cell_type": "markdown",
   "id": "b834c4fa",
   "metadata": {},
   "source": [
    "#### Decoder\n",
    "---\n",
    "<img src=\"https://raw.githubusercontent.com/taldatech/deep-latent-particles-web/main/assets/dlp_decoder.gif\" style=\"height:250px\">"
   ]
  },
  {
   "cell_type": "markdown",
   "id": "9a473d6a",
   "metadata": {},
   "source": [
    "In the decoder for the **object-based** model PointNet++ models the global regions (e.g., the background) and Gaussian maps (optionally) and a separate Glimpse decoder model the objects and their masks."
   ]
  },
  {
   "cell_type": "code",
   "execution_count": null,
   "id": "4609d4ce",
   "metadata": {},
   "outputs": [],
   "source": [
    "# PSEUDOCODE - DO NOT RUN\n",
    "# decoder\n",
    "gmap_1_fg = self.to_gauss_map(z[:, :-1], self.features_dim, self.features_dim)\n",
    "gmap_1_bg = 1 - gmap_1_fg.sum(1, keepdim=True).clamp(0, 1).detach()\n",
    "gmap_1 = torch.cat([gmap_1_fg, gmap_1_bg], dim=1)\n",
    "fg_masks_sep = get_kp_mask_from_gmap(gmap_1_fg, threshold=self.mask_threshold,\n",
    "                                     binary=True, elementwise=True).detach()\n",
    "fg_masks = fg_masks_sep.sum(1, keepdim=True).clamp(0, 1)\n",
    "bg_masks = 1 - fg_masks\n",
    "masks = torch.cat([fg_masks.expand_as(gmap_1_fg), bg_masks], dim=1)\n",
    "gmap_2 = self.pointnet(position=z.detach(), features=torch.cat([z.detach(), z_features], dim=-1))\n",
    "gmap = torch.cat([gmap_1[:, :-1], gmap_2], dim=1)\n",
    "rec = self.dec(gmap)  # bg elements\n",
    "# decode object and translate them to the positions of the keypoints\n",
    "object_dec_out = self.decode_objects(z, z_features, obj_on, bg=rec)\n",
    "dec_objects, dec_objects_trans, rec = object_dec_out"
   ]
  },
  {
   "cell_type": "markdown",
   "id": "a19ceb36",
   "metadata": {},
   "source": [
    "#### Putting it All Together\n",
    "---\n",
    "<img src=\"https://raw.githubusercontent.com/taldatech/deep-latent-particles-web/main/assets/dlp_arch_all.PNG\" style=\"height:400px\">"
   ]
  },
  {
   "cell_type": "markdown",
   "id": "e900bd30",
   "metadata": {},
   "source": [
    "###  <img src=\"https://img.icons8.com/external-icongeek26-linear-colour-icongeek26/64/000000/external-shapes-graphic-design-icongeek26-linear-colour-icongeek26.png\" style=\"height:50px;display:inline\"> Training and Optimization\n",
    "---\n",
    "The model is optimized as a variational autoencoder (VAE) with objective of maximizing the evidence lower bound (ELBO): $$ \\log p_\\theta(x) \\geq \\mathbb{E}_{q(z|x)} \\left[\\log p_\\theta(x|z)\\right] - KL(q(z|x) \\Vert p(z)) \\doteq ELBO(x) $$\n",
    "The ELBO is decomposed to the <i>reconstruction error</i> and a <i>KL-divergence</i> regularization term."
   ]
  },
  {
   "cell_type": "markdown",
   "id": "820643f0",
   "metadata": {},
   "source": [
    "However, here we have two **unordered sets** (or point clouds) of position latent variables: the posterior keypoints and the keypoint proposals from the prior. Note that *the number of points in each set may also differ*.\n",
    "\n",
    "\n",
    "The Chamfer distance between two sets $S_1$ and $S_2$: \n",
    "$$ d_{CH}(S_1, S_2) = \\sum_{x \\in S_1}\\min_{y \\in S_2}||x-y||_2^2 + \\sum_{y \\in S_2}\\min_{x \\in S_1}||x-y||_2^2. $$\n",
    "<img src=\"https://raw.githubusercontent.com/taldatech/deep-latent-particles-web/main/assets/chamfer_distance.gif\" style=\"height:300px\">\n",
    "\n",
    "Animation by <a href=\"https://www.youtube.com/watch?v=P4IyrsWicfs\">Luke Hawkes</a>."
   ]
  },
  {
   "cell_type": "markdown",
   "id": "9773745a",
   "metadata": {},
   "source": [
    "We propose the <b>Chamfer-KL</b>, a <i>novel modification</i> for the KL term:\n",
    "$$ d_{CH-KL}(S_1, S_2) = \\sum_{x \\in S_1}\\min_{y \\in S_2}KL(x \\Vert y) + \\sum_{y \\in S_2}\\min_{x \\in S_1}KL(x \\Vert y). $$\n",
    "Note that the Chamfer-KL is not a metric and maintains the properties of the standard KL term."
   ]
  },
  {
   "cell_type": "markdown",
   "id": "e4f18692",
   "metadata": {},
   "source": [
    "The complete training objective follows the $\\beta$-VAE formulation: $$ \\mathcal{L} =  \\mathcal{L}_{rec}(x, \\tilde{x}) +\\beta_{CKL}CH-KL(q_{\\phi}(z_p|x)\\Vert p_{\\psi}(z|x)) + \\beta_{KL} KL(q_{\\phi}(z_a|x) \\Vert p(z)).$$ We found it crucial to balance the two KL terms, where usually $\\beta_{CKL} > \\beta_{KL}$."
   ]
  },
  {
   "cell_type": "markdown",
   "id": "781a1496",
   "metadata": {},
   "source": [
    "#### Hyper-parameters\n",
    "---\n",
    "DLP has some trivial hyper-parameters just like any other model (e.g., learning rate, batch size and etc...), and the rest are described below:\n",
    "\n",
    "* `ds`: dataset name (str)\n",
    "* `enc_channels`: channels for the posterior CNN (takes in the whole image)\n",
    "* `prior_channels`: channels for prior CNN (takes in patches)\n",
    "* `n_kp`: number of kp to extract from each (!) patch\n",
    "* `n_kp_prior`: number of kp to filter from the set of prior kp (of size n_kp x num_patches)\n",
    "* `n_kp_enc`: number of posterior kp to be learned (this is the actual number of kp that will be learnt)\n",
    "* `use_logsoftmax`: for spatial-softmax, set True to use log-softmax for numerical stability\n",
    "* `pad_mode`: padding for the CNNs, 'zeros' or  'replicate' (default)\n",
    "* `sigma`: the prior std of the KP\n",
    "* `dropout`: dropout for the CNNs. We don't use it though...\n",
    "* `dec_bone`: decoder backbone -- \"gauss_pointnetpp_feat\": Masked Model, \"gauss_pointnetpp\": Object Model\n",
    "* `patch_size`: patch size for the prior KP proposals network (not to be confused with the glimpse size)\n",
    "* `kp_range`: the range of keypoints, can be $[-1, 1]$ (default) or $[0,1]$\n",
    "* `learned_feature_dim`: the latent visual features dimensions extracted from glimpses.\n",
    "* `kp_activation`: the type of activation to apply on the keypoints: \"tanh\" for kp_range $[-1, 1]$, \"sigmoid\" for $[0, 1]$\n",
    "* `mask_threshold`: activation threshold (>thresh -> 1, else 0) for the binary mask created from the Gaussian-maps.\n",
    "* `anchor_s`: defines the glimpse size as a ratio of image_size (e.g., 0.25 for image_size=128 -> glimpse_size=32)\n",
    "* `learn_order`: experimental feature to learn the order of keypoints - but it doesn't work yet.\n",
    "* `use_object_enc`: set True to use a separate encoder to encode visual features of glimpses.\n",
    "* `use_object_dec`: set True to use a separate decoder to decode glimpses (Object Model).\n",
    "* `iou_thresh`: intersection-over-union threshold for non-maximal suppression (nms) to filter bounding boxes\n",
    "* `use_tps`: set True to use a tps augmentation on the input image for datasets that support this option\n",
    "* `use_pairs`: for CelebA dataset, set True to use a tps-augmented image for the prior.\n",
    "* `topk`: the number top-k particles with the lowest variance (highest confidence) to filter for the plots.\n",
    "* `warmup_epoch`: (used for the Object Model) number of epochs where only the object decoder is trained.\n",
    "* `recon_loss_type`: tpe of pixel reconstruction loss (\"mse\", \"vgg\").\n",
    "* `beta_rec`: coefficient for the reconstruction loss (we use 1.0).\n",
    "* `beta_kl`: coefficient for the KL divergence term in the loss.\n",
    "* `kl_balance`: coefficient for the balance between the ChamferKL (for the KP) and the standard KL (for the visual features), kl_loss = beta_kl * (chamfer_kl + kl_balance * kl_features)\n",
    "* `exclusive_patches`: (mostly) enforce one particle pre object by masking up regions that were already encoded."
   ]
  },
  {
   "cell_type": "code",
   "execution_count": 5,
   "id": "a64e3e00",
   "metadata": {},
   "outputs": [],
   "source": [
    "# training\n",
    "# default hyper-parameters\n",
    "lr = 1e-3\n",
    "batch_size = 64\n",
    "device = torch.device(\"cuda:0\" if torch.cuda.is_available() else \"cpu\")\n",
    "num_epochs = 100\n",
    "load_model = False\n",
    "eval_epoch_freq = 2\n",
    "n_kp = 1  # num kp per patch\n",
    "mask_threshold = 0.2  # mask threshold for the features from the encoder\n",
    "kp_range = (-1, 1)\n",
    "weight_decay = 0.0\n",
    "run_prefix = \"\"\n",
    "learn_order = False\n",
    "use_logsoftmax = False\n",
    "pad_mode = 'replicate'\n",
    "sigma = 0.1  # default sigma for the gaussian maps\n",
    "dropout = 0.0\n",
    "kp_activation = \"tanh\"\n",
    "iou_thresh = 0.2\n",
    "# ds specific hp\n",
    "ds = \"shapes\"\n",
    "beta_kl = 0.05\n",
    "beta_rec = 1.0\n",
    "n_kp_enc = 10  # total kp to output from the encoder / filter from prior\n",
    "n_kp_prior = 15\n",
    "patch_size = 8\n",
    "learned_feature_dim = 6  # additional features than x,y for each kp\n",
    "dec_bone = \"gauss_pointnetpp\"  # object model\n",
    "topk = min(10, n_kp_enc)  # display top-10 kp with smallest variance\n",
    "recon_loss_type = \"mse\"\n",
    "use_tps = False\n",
    "use_pairs = False\n",
    "use_object_enc = True  # separate object encoder\n",
    "use_object_dec = True  # separate object decoder\n",
    "warmup_epoch = 1\n",
    "anchor_s = 0.25\n",
    "kl_balance = 0.001\n",
    "exclusive_patches = True"
   ]
  },
  {
   "cell_type": "code",
   "execution_count": 9,
   "id": "0132240d",
   "metadata": {
    "scrolled": true
   },
   "outputs": [
    {
     "name": "stdout",
     "output_type": "stream",
     "text": [
      "generating random shapes dataset\n"
     ]
    },
    {
     "data": {
      "application/vnd.jupyter.widget-view+json": {
       "model_id": "996adaa7a8c84476b436ac0489f6d552",
       "version_major": 2,
       "version_minor": 0
      },
      "text/plain": [
       "  0%|          | 0/40000 [00:00<?, ?it/s]"
      ]
     },
     "metadata": {},
     "output_type": "display_data"
    },
    {
     "name": "stdout",
     "output_type": "stream",
     "text": [
      "decoder backbone: gauss_pointnetpp\n",
      "prior std: 0.1\n",
      "keypoints range: (-1, 1)\n",
      "total number of kp: 64 -> prior kp: 15\n",
      "number of kp from encoder: 10\n",
      "kp_activation: tanh\n",
      "learnable feature dim: 6\n",
      "mask threshold: 0.2\n",
      "object patch size: 16\n",
      "object encoder: True, object decoder: True\n",
      "learn particles order: False\n",
      "conv shape:  torch.Size([128, 16, 16])\n",
      "conv shape:  torch.Size([32, 4, 4])\n",
      "conv shape:  torch.Size([64, 2, 2])\n"
     ]
    },
    {
     "data": {
      "application/vnd.jupyter.widget-view+json": {
       "model_id": "b11c820485f64c59913adb08a4454f05",
       "version_major": 2,
       "version_minor": 0
      },
      "text/plain": [
       "  0%|          | 0/625 [00:00<?, ?it/s]"
      ]
     },
     "metadata": {},
     "output_type": "display_data"
    },
    {
     "name": "stdout",
     "output_type": "stream",
     "text": [
      "epoch 0 summary for dec backbone: gauss_pointnetpp\n",
      "loss: 20.318, rec: 16.962, kl: 67.107\n",
      "kl_balance: 0.0010, kl_kp: 66.557, kl_feat: 550.190\n",
      "mu max: 0.9220603704452515, mu min: -0.994138240814209\n",
      "obj_on max: 0.5406953692436218, obj_on min: 0.46821826696395874\n",
      "\n",
      "bb scores: max: 10.32, min: 8.34, mean: 9.25\n",
      "\n"
     ]
    },
    {
     "data": {
      "application/vnd.jupyter.widget-view+json": {
       "model_id": "84101e96f89543fdb588585e505980e4",
       "version_major": 2,
       "version_minor": 0
      },
      "text/plain": [
       "  0%|          | 0/625 [00:00<?, ?it/s]"
      ]
     },
     "metadata": {},
     "output_type": "display_data"
    },
    {
     "name": "stdout",
     "output_type": "stream",
     "text": [
      "epoch 1 summary for dec backbone: gauss_pointnetpp\n",
      "loss: 390.838, rec: 379.946, kl: 217.854\n",
      "kl_balance: 0.0010, kl_kp: 216.093, kl_feat: 1760.987\n",
      "mu max: 0.8143038749694824, mu min: -0.87456876039505\n",
      "obj_on max: 0.5271044373512268, obj_on min: 0.4770619571208954\n",
      "mean psnr: 17.595\n",
      "\n"
     ]
    },
    {
     "data": {
      "application/vnd.jupyter.widget-view+json": {
       "model_id": "69892f045c6447f48e276096d61e0aae",
       "version_major": 2,
       "version_minor": 0
      },
      "text/plain": [
       "  0%|          | 0/625 [00:00<?, ?it/s]"
      ]
     },
     "metadata": {},
     "output_type": "display_data"
    },
    {
     "name": "stdout",
     "output_type": "stream",
     "text": [
      "epoch 2 summary for dec backbone: gauss_pointnetpp\n",
      "loss: 122.674, rec: 113.526, kl: 182.949\n",
      "kl_balance: 0.0010, kl_kp: 181.472, kl_feat: 1477.595\n",
      "mu max: 0.7596716284751892, mu min: -0.8739987015724182\n",
      "obj_on max: 0.5230292677879333, obj_on min: 0.4788413941860199\n",
      "mean psnr: 20.371\n",
      "\n",
      "bb scores: max: 24.40, min: 15.37, mean: 18.83\n",
      "\n"
     ]
    },
    {
     "data": {
      "application/vnd.jupyter.widget-view+json": {
       "model_id": "2580ca6ea4124060876beaef1aa725a0",
       "version_major": 2,
       "version_minor": 0
      },
      "text/plain": [
       "  0%|          | 0/625 [00:00<?, ?it/s]"
      ]
     },
     "metadata": {},
     "output_type": "display_data"
    },
    {
     "name": "stdout",
     "output_type": "stream",
     "text": [
      "epoch 3 summary for dec backbone: gauss_pointnetpp\n",
      "loss: 101.916, rec: 92.924, kl: 179.856\n",
      "kl_balance: 0.0010, kl_kp: 178.646, kl_feat: 1210.280\n",
      "mu max: 0.8557111024856567, mu min: -0.8494976162910461\n",
      "obj_on max: 0.522617757320404, obj_on min: 0.47919005155563354\n",
      "mean psnr: 21.227\n",
      "\n"
     ]
    },
    {
     "data": {
      "application/vnd.jupyter.widget-view+json": {
       "model_id": "0526de9252c14d9689df44cad3aea20c",
       "version_major": 2,
       "version_minor": 0
      },
      "text/plain": [
       "  0%|          | 0/625 [00:00<?, ?it/s]"
      ]
     },
     "metadata": {},
     "output_type": "display_data"
    },
    {
     "name": "stdout",
     "output_type": "stream",
     "text": [
      "epoch 4 summary for dec backbone: gauss_pointnetpp\n",
      "loss: 91.068, rec: 82.212, kl: 177.132\n",
      "kl_balance: 0.0010, kl_kp: 176.001, kl_feat: 1130.567\n",
      "mu max: 0.9212254881858826, mu min: -0.9290873408317566\n",
      "obj_on max: 0.5246272087097168, obj_on min: 0.47766828536987305\n",
      "mean psnr: 21.760\n",
      "\n",
      "bb scores: max: 30.45, min: 17.83, mean: 22.86\n",
      "\n"
     ]
    },
    {
     "data": {
      "application/vnd.jupyter.widget-view+json": {
       "model_id": "aa3d0478b9124be19cc747b6e604c824",
       "version_major": 2,
       "version_minor": 0
      },
      "text/plain": [
       "  0%|          | 0/625 [00:00<?, ?it/s]"
      ]
     },
     "metadata": {},
     "output_type": "display_data"
    },
    {
     "name": "stdout",
     "output_type": "stream",
     "text": [
      "epoch 5 summary for dec backbone: gauss_pointnetpp\n",
      "loss: 66.834, rec: 58.049, kl: 175.697\n",
      "kl_balance: 0.0010, kl_kp: 174.719, kl_feat: 978.869\n",
      "mu max: 0.8949666023254395, mu min: -0.9380226135253906\n",
      "obj_on max: 0.9998756647109985, obj_on min: 0.042272474616765976\n",
      "mean psnr: 23.277\n",
      "\n"
     ]
    },
    {
     "data": {
      "application/vnd.jupyter.widget-view+json": {
       "model_id": "b6f3430cff314b639c1fd7b32f140142",
       "version_major": 2,
       "version_minor": 0
      },
      "text/plain": [
       "  0%|          | 0/625 [00:00<?, ?it/s]"
      ]
     },
     "metadata": {},
     "output_type": "display_data"
    },
    {
     "name": "stdout",
     "output_type": "stream",
     "text": [
      "epoch 6 summary for dec backbone: gauss_pointnetpp\n",
      "loss: 55.740, rec: 46.787, kl: 179.077\n",
      "kl_balance: 0.0010, kl_kp: 178.181, kl_feat: 895.483\n",
      "mu max: 0.8416098356246948, mu min: -0.917428195476532\n",
      "obj_on max: 0.9999988079071045, obj_on min: 0.01970219798386097\n",
      "mean psnr: 24.210\n",
      "\n",
      "bb scores: max: 27.53, min: 15.33, mean: 21.75\n",
      "\n"
     ]
    },
    {
     "data": {
      "application/vnd.jupyter.widget-view+json": {
       "model_id": "3679f320cc774644a0cd2741d40eb0ab",
       "version_major": 2,
       "version_minor": 0
      },
      "text/plain": [
       "  0%|          | 0/625 [00:00<?, ?it/s]"
      ]
     },
     "metadata": {},
     "output_type": "display_data"
    },
    {
     "name": "stdout",
     "output_type": "stream",
     "text": [
      "epoch 7 summary for dec backbone: gauss_pointnetpp\n",
      "loss: 51.647, rec: 42.677, kl: 179.406\n",
      "kl_balance: 0.0010, kl_kp: 178.534, kl_feat: 871.211\n",
      "mu max: 0.836959719657898, mu min: -0.9047195911407471\n",
      "obj_on max: 0.9999998807907104, obj_on min: 0.008848834782838821\n",
      "mean psnr: 24.609\n",
      "\n"
     ]
    },
    {
     "data": {
      "application/vnd.jupyter.widget-view+json": {
       "model_id": "f2458769604f457a857584bf8f0389af",
       "version_major": 2,
       "version_minor": 0
      },
      "text/plain": [
       "  0%|          | 0/625 [00:00<?, ?it/s]"
      ]
     },
     "metadata": {},
     "output_type": "display_data"
    },
    {
     "name": "stdout",
     "output_type": "stream",
     "text": [
      "epoch 8 summary for dec backbone: gauss_pointnetpp\n",
      "loss: 49.114, rec: 40.151, kl: 179.259\n",
      "kl_balance: 0.0010, kl_kp: 178.354, kl_feat: 904.590\n",
      "mu max: 0.9077540636062622, mu min: -0.9520664811134338\n",
      "obj_on max: 0.9999958276748657, obj_on min: 0.012792380526661873\n",
      "mean psnr: 24.874\n",
      "\n",
      "bb scores: max: 30.59, min: 13.13, mean: 22.35\n",
      "\n"
     ]
    },
    {
     "data": {
      "application/vnd.jupyter.widget-view+json": {
       "model_id": "adec4bb3c9084f22a06059f59810ac56",
       "version_major": 2,
       "version_minor": 0
      },
      "text/plain": [
       "  0%|          | 0/625 [00:00<?, ?it/s]"
      ]
     },
     "metadata": {},
     "output_type": "display_data"
    },
    {
     "name": "stdout",
     "output_type": "stream",
     "text": [
      "epoch 9 summary for dec backbone: gauss_pointnetpp\n",
      "loss: 46.979, rec: 37.950, kl: 180.599\n",
      "kl_balance: 0.0010, kl_kp: 179.692, kl_feat: 907.567\n",
      "mu max: 0.8774340152740479, mu min: -0.9096291065216064\n",
      "obj_on max: 1.0, obj_on min: 0.010667909868061543\n",
      "mean psnr: 25.120\n",
      "\n"
     ]
    },
    {
     "data": {
      "application/vnd.jupyter.widget-view+json": {
       "model_id": "9dec2ca083e24936a5f1ce59732b5e98",
       "version_major": 2,
       "version_minor": 0
      },
      "text/plain": [
       "  0%|          | 0/625 [00:00<?, ?it/s]"
      ]
     },
     "metadata": {},
     "output_type": "display_data"
    },
    {
     "name": "stdout",
     "output_type": "stream",
     "text": [
      "epoch 10 summary for dec backbone: gauss_pointnetpp\n",
      "loss: 44.993, rec: 35.986, kl: 180.145\n",
      "kl_balance: 0.0010, kl_kp: 179.215, kl_feat: 929.871\n",
      "mu max: 0.8482515811920166, mu min: -0.9133435487747192\n",
      "obj_on max: 0.9999982118606567, obj_on min: 0.025964386761188507\n",
      "mean psnr: 25.353\n",
      "\n",
      "bb scores: max: 29.61, min: 8.11, mean: 21.90\n",
      "\n"
     ]
    },
    {
     "data": {
      "application/vnd.jupyter.widget-view+json": {
       "model_id": "39255569677c403e9fbcd324fa385069",
       "version_major": 2,
       "version_minor": 0
      },
      "text/plain": [
       "  0%|          | 0/625 [00:00<?, ?it/s]"
      ]
     },
     "metadata": {},
     "output_type": "display_data"
    },
    {
     "name": "stdout",
     "output_type": "stream",
     "text": [
      "epoch 11 summary for dec backbone: gauss_pointnetpp\n",
      "loss: 43.745, rec: 34.741, kl: 180.083\n",
      "kl_balance: 0.0010, kl_kp: 179.123, kl_feat: 960.411\n",
      "mu max: 0.8309618234634399, mu min: -0.9298042058944702\n",
      "obj_on max: 0.9999982118606567, obj_on min: 0.004609663970768452\n",
      "mean psnr: 25.505\n",
      "\n"
     ]
    },
    {
     "data": {
      "application/vnd.jupyter.widget-view+json": {
       "model_id": "5a87fe0a7a724d4fb087017c6b139b92",
       "version_major": 2,
       "version_minor": 0
      },
      "text/plain": [
       "  0%|          | 0/625 [00:00<?, ?it/s]"
      ]
     },
     "metadata": {},
     "output_type": "display_data"
    },
    {
     "name": "stdout",
     "output_type": "stream",
     "text": [
      "epoch 12 summary for dec backbone: gauss_pointnetpp\n",
      "loss: 42.112, rec: 33.203, kl: 178.191\n",
      "kl_balance: 0.0010, kl_kp: 177.210, kl_feat: 981.003\n",
      "mu max: 0.8208761215209961, mu min: -0.9347814321517944\n",
      "obj_on max: 1.0, obj_on min: 0.001264703692868352\n",
      "mean psnr: 25.704\n",
      "\n",
      "bb scores: max: 28.81, min: 7.25, mean: 21.39\n",
      "\n"
     ]
    },
    {
     "data": {
      "application/vnd.jupyter.widget-view+json": {
       "model_id": "ac39829c889c4aaf87a6e966d8ce24a8",
       "version_major": 2,
       "version_minor": 0
      },
      "text/plain": [
       "  0%|          | 0/625 [00:00<?, ?it/s]"
      ]
     },
     "metadata": {},
     "output_type": "display_data"
    },
    {
     "name": "stdout",
     "output_type": "stream",
     "text": [
      "epoch 13 summary for dec backbone: gauss_pointnetpp\n",
      "loss: 40.643, rec: 31.795, kl: 176.964\n",
      "kl_balance: 0.0010, kl_kp: 175.978, kl_feat: 985.953\n",
      "mu max: 0.8243411183357239, mu min: -0.9438992142677307\n",
      "obj_on max: 1.0, obj_on min: 0.006016188766807318\n",
      "mean psnr: 25.895\n",
      "\n"
     ]
    },
    {
     "data": {
      "application/vnd.jupyter.widget-view+json": {
       "model_id": "efeab01dbb084dd5ba6f0e868eeccd87",
       "version_major": 2,
       "version_minor": 0
      },
      "text/plain": [
       "  0%|          | 0/625 [00:00<?, ?it/s]"
      ]
     },
     "metadata": {},
     "output_type": "display_data"
    },
    {
     "name": "stdout",
     "output_type": "stream",
     "text": [
      "epoch 14 summary for dec backbone: gauss_pointnetpp\n",
      "loss: 39.815, rec: 31.033, kl: 175.624\n",
      "kl_balance: 0.0010, kl_kp: 174.596, kl_feat: 1028.706\n",
      "mu max: 0.8375452756881714, mu min: -0.9308322668075562\n",
      "obj_on max: 1.0, obj_on min: 0.005752075929194689\n",
      "mean psnr: 25.997\n",
      "\n",
      "bb scores: max: 29.20, min: 6.25, mean: 22.07\n",
      "\n"
     ]
    },
    {
     "data": {
      "application/vnd.jupyter.widget-view+json": {
       "model_id": "1571a0fca7f040a19e1d6405dfe170cf",
       "version_major": 2,
       "version_minor": 0
      },
      "text/plain": [
       "  0%|          | 0/625 [00:00<?, ?it/s]"
      ]
     },
     "metadata": {},
     "output_type": "display_data"
    },
    {
     "name": "stdout",
     "output_type": "stream",
     "text": [
      "epoch 15 summary for dec backbone: gauss_pointnetpp\n",
      "loss: 39.114, rec: 30.418, kl: 173.932\n",
      "kl_balance: 0.0010, kl_kp: 172.884, kl_feat: 1047.719\n",
      "mu max: 0.8799234628677368, mu min: -0.943925142288208\n",
      "obj_on max: 1.0, obj_on min: 0.0011613955721259117\n",
      "mean psnr: 26.086\n",
      "\n"
     ]
    },
    {
     "data": {
      "application/vnd.jupyter.widget-view+json": {
       "model_id": "e171b6b817964296ab2521d02040b3d8",
       "version_major": 2,
       "version_minor": 0
      },
      "text/plain": [
       "  0%|          | 0/625 [00:00<?, ?it/s]"
      ]
     },
     "metadata": {},
     "output_type": "display_data"
    },
    {
     "name": "stdout",
     "output_type": "stream",
     "text": [
      "epoch 16 summary for dec backbone: gauss_pointnetpp\n",
      "loss: 38.627, rec: 30.031, kl: 171.919\n",
      "kl_balance: 0.0010, kl_kp: 170.852, kl_feat: 1067.368\n",
      "mu max: 0.8276530504226685, mu min: -0.9477713108062744\n",
      "obj_on max: 1.0, obj_on min: 0.00033329371945001185\n",
      "mean psnr: 26.140\n",
      "\n",
      "bb scores: max: 29.78, min: 7.62, mean: 21.72\n",
      "\n"
     ]
    },
    {
     "data": {
      "application/vnd.jupyter.widget-view+json": {
       "model_id": "6e6a359ccfb243d385e3eb6edd0dd84c",
       "version_major": 2,
       "version_minor": 0
      },
      "text/plain": [
       "  0%|          | 0/625 [00:00<?, ?it/s]"
      ]
     },
     "metadata": {},
     "output_type": "display_data"
    },
    {
     "name": "stdout",
     "output_type": "stream",
     "text": [
      "epoch 17 summary for dec backbone: gauss_pointnetpp\n",
      "loss: 37.608, rec: 29.043, kl: 171.305\n",
      "kl_balance: 0.0010, kl_kp: 170.215, kl_feat: 1090.673\n",
      "mu max: 0.8714057803153992, mu min: -0.976646363735199\n",
      "obj_on max: 1.0, obj_on min: 0.001266992767341435\n",
      "mean psnr: 26.288\n",
      "\n"
     ]
    },
    {
     "data": {
      "application/vnd.jupyter.widget-view+json": {
       "model_id": "4662c4de45874310b17f13fcc609312c",
       "version_major": 2,
       "version_minor": 0
      },
      "text/plain": [
       "  0%|          | 0/625 [00:00<?, ?it/s]"
      ]
     },
     "metadata": {},
     "output_type": "display_data"
    },
    {
     "name": "stdout",
     "output_type": "stream",
     "text": [
      "epoch 18 summary for dec backbone: gauss_pointnetpp\n",
      "loss: 36.692, rec: 28.232, kl: 169.200\n",
      "kl_balance: 0.0010, kl_kp: 168.114, kl_feat: 1086.276\n",
      "mu max: 0.8771125078201294, mu min: -0.9433962106704712\n",
      "obj_on max: 1.0, obj_on min: 0.001341684372164309\n",
      "mean psnr: 26.408\n",
      "\n",
      "bb scores: max: 30.78, min: 5.35, mean: 21.56\n",
      "\n"
     ]
    },
    {
     "data": {
      "application/vnd.jupyter.widget-view+json": {
       "model_id": "c1d998da3a8d4238bf7dcffa4af2c479",
       "version_major": 2,
       "version_minor": 0
      },
      "text/plain": [
       "  0%|          | 0/625 [00:00<?, ?it/s]"
      ]
     },
     "metadata": {},
     "output_type": "display_data"
    },
    {
     "name": "stdout",
     "output_type": "stream",
     "text": [
      "epoch 19 summary for dec backbone: gauss_pointnetpp\n",
      "loss: 36.519, rec: 28.132, kl: 167.755\n",
      "kl_balance: 0.0010, kl_kp: 166.647, kl_feat: 1107.800\n",
      "mu max: 0.8538597226142883, mu min: -0.9460161328315735\n",
      "obj_on max: 1.0, obj_on min: 0.00036572542740032077\n",
      "mean psnr: 26.424\n",
      "\n"
     ]
    },
    {
     "data": {
      "application/vnd.jupyter.widget-view+json": {
       "model_id": "311db4459d5e4c3f8354d5a93c649f99",
       "version_major": 2,
       "version_minor": 0
      },
      "text/plain": [
       "  0%|          | 0/625 [00:00<?, ?it/s]"
      ]
     },
     "metadata": {},
     "output_type": "display_data"
    },
    {
     "name": "stdout",
     "output_type": "stream",
     "text": [
      "epoch 20 summary for dec backbone: gauss_pointnetpp\n",
      "loss: 32.323, rec: 24.089, kl: 164.677\n",
      "kl_balance: 0.0010, kl_kp: 163.616, kl_feat: 1060.535\n",
      "mu max: 0.9301964640617371, mu min: -0.9796735048294067\n",
      "obj_on max: 1.0, obj_on min: 0.000521161942742765\n",
      "mean psnr: 27.099\n",
      "\n",
      "bb scores: max: 31.70, min: 5.26, mean: 21.79\n",
      "\n"
     ]
    },
    {
     "data": {
      "application/vnd.jupyter.widget-view+json": {
       "model_id": "09aeb39d1908442aac5ced87f1e3d158",
       "version_major": 2,
       "version_minor": 0
      },
      "text/plain": [
       "  0%|          | 0/625 [00:00<?, ?it/s]"
      ]
     },
     "metadata": {},
     "output_type": "display_data"
    },
    {
     "name": "stdout",
     "output_type": "stream",
     "text": [
      "epoch 21 summary for dec backbone: gauss_pointnetpp\n",
      "loss: 31.843, rec: 23.707, kl: 162.716\n",
      "kl_balance: 0.0010, kl_kp: 161.693, kl_feat: 1023.086\n",
      "mu max: 0.8843681812286377, mu min: -0.9661332964897156\n",
      "obj_on max: 1.0, obj_on min: 0.0012414295924827456\n",
      "mean psnr: 27.168\n",
      "\n"
     ]
    },
    {
     "data": {
      "application/vnd.jupyter.widget-view+json": {
       "model_id": "1840707b8bae4b5593c6277b536d6cc2",
       "version_major": 2,
       "version_minor": 0
      },
      "text/plain": [
       "  0%|          | 0/625 [00:00<?, ?it/s]"
      ]
     },
     "metadata": {},
     "output_type": "display_data"
    },
    {
     "name": "stdout",
     "output_type": "stream",
     "text": [
      "epoch 22 summary for dec backbone: gauss_pointnetpp\n",
      "loss: 31.479, rec: 23.388, kl: 161.816\n",
      "kl_balance: 0.0010, kl_kp: 160.825, kl_feat: 990.845\n",
      "mu max: 0.852033793926239, mu min: -0.9661705493927002\n",
      "obj_on max: 1.0, obj_on min: 0.0005525663727894425\n",
      "mean psnr: 27.226\n",
      "\n",
      "bb scores: max: 34.38, min: 7.65, mean: 21.59\n",
      "\n"
     ]
    },
    {
     "data": {
      "application/vnd.jupyter.widget-view+json": {
       "model_id": "ab739759d73945e9995d1b855c6dd28f",
       "version_major": 2,
       "version_minor": 0
      },
      "text/plain": [
       "  0%|          | 0/625 [00:00<?, ?it/s]"
      ]
     },
     "metadata": {},
     "output_type": "display_data"
    },
    {
     "name": "stdout",
     "output_type": "stream",
     "text": [
      "epoch 23 summary for dec backbone: gauss_pointnetpp\n",
      "loss: 31.145, rec: 23.155, kl: 159.782\n",
      "kl_balance: 0.0010, kl_kp: 158.788, kl_feat: 994.451\n",
      "mu max: 0.9152716994285583, mu min: -0.9351775050163269\n",
      "obj_on max: 1.0, obj_on min: 0.00090127281146124\n",
      "mean psnr: 27.270\n",
      "\n"
     ]
    },
    {
     "data": {
      "application/vnd.jupyter.widget-view+json": {
       "model_id": "0c82307f64794cdaa40613ca5ab48dbf",
       "version_major": 2,
       "version_minor": 0
      },
      "text/plain": [
       "  0%|          | 0/625 [00:00<?, ?it/s]"
      ]
     },
     "metadata": {},
     "output_type": "display_data"
    },
    {
     "name": "stdout",
     "output_type": "stream",
     "text": [
      "epoch 24 summary for dec backbone: gauss_pointnetpp\n",
      "loss: 30.854, rec: 22.922, kl: 158.636\n",
      "kl_balance: 0.0010, kl_kp: 157.666, kl_feat: 970.049\n",
      "mu max: 0.8598752617835999, mu min: -0.9547160863876343\n",
      "obj_on max: 1.0, obj_on min: 0.000322323408909142\n",
      "mean psnr: 27.314\n",
      "\n",
      "bb scores: max: 31.77, min: 5.58, mean: 21.38\n",
      "\n"
     ]
    },
    {
     "data": {
      "application/vnd.jupyter.widget-view+json": {
       "model_id": "1832ae4dfc1843c79944c9cb9c50e6b4",
       "version_major": 2,
       "version_minor": 0
      },
      "text/plain": [
       "  0%|          | 0/625 [00:00<?, ?it/s]"
      ]
     },
     "metadata": {},
     "output_type": "display_data"
    },
    {
     "name": "stdout",
     "output_type": "stream",
     "text": [
      "epoch 25 summary for dec backbone: gauss_pointnetpp\n",
      "loss: 30.373, rec: 22.438, kl: 158.697\n",
      "kl_balance: 0.0010, kl_kp: 157.732, kl_feat: 964.881\n",
      "mu max: 0.8102661967277527, mu min: -0.9608613848686218\n",
      "obj_on max: 1.0, obj_on min: 4.965412153978832e-05\n",
      "mean psnr: 27.408\n",
      "\n"
     ]
    },
    {
     "data": {
      "application/vnd.jupyter.widget-view+json": {
       "model_id": "919ad59c6f7b4d0fb2e77fe8176e747a",
       "version_major": 2,
       "version_minor": 0
      },
      "text/plain": [
       "  0%|          | 0/625 [00:00<?, ?it/s]"
      ]
     },
     "metadata": {},
     "output_type": "display_data"
    },
    {
     "name": "stdout",
     "output_type": "stream",
     "text": [
      "epoch 26 summary for dec backbone: gauss_pointnetpp\n",
      "loss: 29.829, rec: 22.009, kl: 156.403\n",
      "kl_balance: 0.0010, kl_kp: 155.456, kl_feat: 946.402\n",
      "mu max: 0.8918772339820862, mu min: -0.9791097640991211\n",
      "obj_on max: 1.0, obj_on min: 0.00020313063578214496\n",
      "mean psnr: 27.489\n",
      "\n",
      "bb scores: max: 31.90, min: 6.01, mean: 20.95\n",
      "\n"
     ]
    },
    {
     "data": {
      "application/vnd.jupyter.widget-view+json": {
       "model_id": "c1dea416c9174335bbba8f7b2731b8ae",
       "version_major": 2,
       "version_minor": 0
      },
      "text/plain": [
       "  0%|          | 0/625 [00:00<?, ?it/s]"
      ]
     },
     "metadata": {},
     "output_type": "display_data"
    },
    {
     "name": "stdout",
     "output_type": "stream",
     "text": [
      "epoch 27 summary for dec backbone: gauss_pointnetpp\n",
      "loss: 29.559, rec: 21.741, kl: 156.369\n",
      "kl_balance: 0.0010, kl_kp: 155.436, kl_feat: 932.905\n",
      "mu max: 0.8335264921188354, mu min: -0.9286428093910217\n",
      "obj_on max: 1.0, obj_on min: 0.0001320078590651974\n",
      "mean psnr: 27.543\n",
      "\n"
     ]
    },
    {
     "data": {
      "application/vnd.jupyter.widget-view+json": {
       "model_id": "735650e64bd6430d9e8088cb50d11235",
       "version_major": 2,
       "version_minor": 0
      },
      "text/plain": [
       "  0%|          | 0/625 [00:00<?, ?it/s]"
      ]
     },
     "metadata": {},
     "output_type": "display_data"
    },
    {
     "name": "stdout",
     "output_type": "stream",
     "text": [
      "epoch 28 summary for dec backbone: gauss_pointnetpp\n",
      "loss: 29.499, rec: 21.736, kl: 155.270\n",
      "kl_balance: 0.0010, kl_kp: 154.353, kl_feat: 916.919\n",
      "mu max: 0.8503339290618896, mu min: -0.9649066925048828\n",
      "obj_on max: 1.0, obj_on min: 0.0003112157864961773\n",
      "mean psnr: 27.546\n",
      "\n",
      "bb scores: max: 30.05, min: 6.07, mean: 21.11\n",
      "\n"
     ]
    },
    {
     "data": {
      "application/vnd.jupyter.widget-view+json": {
       "model_id": "250ee12f65db432984d818e62b867ced",
       "version_major": 2,
       "version_minor": 0
      },
      "text/plain": [
       "  0%|          | 0/625 [00:00<?, ?it/s]"
      ]
     },
     "metadata": {},
     "output_type": "display_data"
    },
    {
     "name": "stdout",
     "output_type": "stream",
     "text": [
      "epoch 29 summary for dec backbone: gauss_pointnetpp\n",
      "loss: 29.064, rec: 21.298, kl: 155.315\n",
      "kl_balance: 0.0010, kl_kp: 154.400, kl_feat: 914.903\n",
      "mu max: 0.8774300813674927, mu min: -0.9315711259841919\n",
      "obj_on max: 1.0, obj_on min: 0.00029779289616271853\n",
      "mean psnr: 27.633\n",
      "\n"
     ]
    },
    {
     "data": {
      "application/vnd.jupyter.widget-view+json": {
       "model_id": "20f2f660f8f1434b8f2d8215e068935d",
       "version_major": 2,
       "version_minor": 0
      },
      "text/plain": [
       "  0%|          | 0/625 [00:00<?, ?it/s]"
      ]
     },
     "metadata": {},
     "output_type": "display_data"
    },
    {
     "name": "stdout",
     "output_type": "stream",
     "text": [
      "epoch 30 summary for dec backbone: gauss_pointnetpp\n",
      "loss: 29.232, rec: 21.513, kl: 154.376\n",
      "kl_balance: 0.0010, kl_kp: 153.468, kl_feat: 908.154\n",
      "mu max: 0.8542369604110718, mu min: -0.943597674369812\n",
      "obj_on max: 1.0, obj_on min: 2.4369046514038928e-05\n",
      "mean psnr: 27.590\n",
      "\n",
      "bb scores: max: 33.35, min: 6.15, mean: 21.39\n",
      "\n"
     ]
    },
    {
     "data": {
      "application/vnd.jupyter.widget-view+json": {
       "model_id": "905200eeb55c480d95c98682f1aa309d",
       "version_major": 2,
       "version_minor": 0
      },
      "text/plain": [
       "  0%|          | 0/625 [00:00<?, ?it/s]"
      ]
     },
     "metadata": {},
     "output_type": "display_data"
    },
    {
     "name": "stdout",
     "output_type": "stream",
     "text": [
      "epoch 31 summary for dec backbone: gauss_pointnetpp\n",
      "loss: 28.924, rec: 21.246, kl: 153.547\n",
      "kl_balance: 0.0010, kl_kp: 152.646, kl_feat: 900.687\n",
      "mu max: 0.8479599356651306, mu min: -0.9725985527038574\n",
      "obj_on max: 1.0, obj_on min: 0.00013975022011436522\n",
      "mean psnr: 27.645\n",
      "\n"
     ]
    },
    {
     "data": {
      "application/vnd.jupyter.widget-view+json": {
       "model_id": "c3cebeabecc14970ba317002b8c6964f",
       "version_major": 2,
       "version_minor": 0
      },
      "text/plain": [
       "  0%|          | 0/625 [00:00<?, ?it/s]"
      ]
     },
     "metadata": {},
     "output_type": "display_data"
    },
    {
     "name": "stdout",
     "output_type": "stream",
     "text": [
      "epoch 32 summary for dec backbone: gauss_pointnetpp\n",
      "loss: 28.797, rec: 21.169, kl: 152.565\n",
      "kl_balance: 0.0010, kl_kp: 151.673, kl_feat: 891.655\n",
      "mu max: 0.8587130308151245, mu min: -0.9334883689880371\n",
      "obj_on max: 1.0, obj_on min: 0.00024074659449979663\n",
      "mean psnr: 27.662\n",
      "\n",
      "bb scores: max: 33.80, min: 6.87, mean: 21.08\n",
      "\n"
     ]
    },
    {
     "data": {
      "application/vnd.jupyter.widget-view+json": {
       "model_id": "b84f777428234dfb88354442a161e747",
       "version_major": 2,
       "version_minor": 0
      },
      "text/plain": [
       "  0%|          | 0/625 [00:00<?, ?it/s]"
      ]
     },
     "metadata": {},
     "output_type": "display_data"
    },
    {
     "name": "stdout",
     "output_type": "stream",
     "text": [
      "epoch 33 summary for dec backbone: gauss_pointnetpp\n",
      "loss: 28.214, rec: 20.671, kl: 150.848\n",
      "kl_balance: 0.0010, kl_kp: 149.947, kl_feat: 901.428\n",
      "mu max: 0.837288498878479, mu min: -0.9524087905883789\n",
      "obj_on max: 1.0, obj_on min: 0.0001461255451431498\n",
      "mean psnr: 27.763\n",
      "\n"
     ]
    },
    {
     "data": {
      "application/vnd.jupyter.widget-view+json": {
       "model_id": "ff8eea6de5734b78bd96d78676299459",
       "version_major": 2,
       "version_minor": 0
      },
      "text/plain": [
       "  0%|          | 0/625 [00:00<?, ?it/s]"
      ]
     },
     "metadata": {},
     "output_type": "display_data"
    },
    {
     "name": "stdout",
     "output_type": "stream",
     "text": [
      "epoch 34 summary for dec backbone: gauss_pointnetpp\n",
      "loss: 28.160, rec: 20.580, kl: 151.605\n",
      "kl_balance: 0.0010, kl_kp: 150.722, kl_feat: 883.227\n",
      "mu max: 0.8719073534011841, mu min: -0.9670348763465881\n",
      "obj_on max: 1.0, obj_on min: 0.00041317089926451445\n",
      "mean psnr: 27.782\n",
      "\n",
      "bb scores: max: 30.18, min: 5.72, mean: 20.10\n",
      "\n"
     ]
    },
    {
     "data": {
      "application/vnd.jupyter.widget-view+json": {
       "model_id": "1f77f4d0d5dc4a219c549f5b5ddbef4d",
       "version_major": 2,
       "version_minor": 0
      },
      "text/plain": [
       "  0%|          | 0/625 [00:00<?, ?it/s]"
      ]
     },
     "metadata": {},
     "output_type": "display_data"
    },
    {
     "name": "stdout",
     "output_type": "stream",
     "text": [
      "epoch 35 summary for dec backbone: gauss_pointnetpp\n",
      "loss: 27.821, rec: 20.267, kl: 151.082\n",
      "kl_balance: 0.0010, kl_kp: 150.209, kl_feat: 872.284\n",
      "mu max: 0.9015540480613708, mu min: -0.980066180229187\n",
      "obj_on max: 1.0, obj_on min: 0.00035050176666118205\n",
      "mean psnr: 27.850\n",
      "\n"
     ]
    },
    {
     "data": {
      "application/vnd.jupyter.widget-view+json": {
       "model_id": "8aee401384464530acd5bcdccc316907",
       "version_major": 2,
       "version_minor": 0
      },
      "text/plain": [
       "  0%|          | 0/625 [00:00<?, ?it/s]"
      ]
     },
     "metadata": {},
     "output_type": "display_data"
    },
    {
     "name": "stdout",
     "output_type": "stream",
     "text": [
      "epoch 36 summary for dec backbone: gauss_pointnetpp\n",
      "loss: 27.512, rec: 20.006, kl: 150.127\n",
      "kl_balance: 0.0010, kl_kp: 149.251, kl_feat: 876.406\n",
      "mu max: 0.7680054306983948, mu min: -0.9642571806907654\n",
      "obj_on max: 1.0, obj_on min: 0.00011749660916393623\n",
      "mean psnr: 27.904\n",
      "\n",
      "bb scores: max: 33.39, min: 6.70, mean: 20.84\n",
      "\n"
     ]
    },
    {
     "data": {
      "application/vnd.jupyter.widget-view+json": {
       "model_id": "a8cfda5b634e4866a1833c241a22f786",
       "version_major": 2,
       "version_minor": 0
      },
      "text/plain": [
       "  0%|          | 0/625 [00:00<?, ?it/s]"
      ]
     },
     "metadata": {},
     "output_type": "display_data"
    },
    {
     "name": "stdout",
     "output_type": "stream",
     "text": [
      "epoch 37 summary for dec backbone: gauss_pointnetpp\n",
      "loss: 27.567, rec: 20.113, kl: 149.075\n",
      "kl_balance: 0.0010, kl_kp: 148.200, kl_feat: 874.844\n",
      "mu max: 0.8447200059890747, mu min: -0.977231502532959\n",
      "obj_on max: 1.0, obj_on min: 8.487146988045424e-05\n",
      "mean psnr: 27.881\n",
      "\n"
     ]
    },
    {
     "data": {
      "application/vnd.jupyter.widget-view+json": {
       "model_id": "c4f37dc2eb374bcc8c81d6222ec0d418",
       "version_major": 2,
       "version_minor": 0
      },
      "text/plain": [
       "  0%|          | 0/625 [00:00<?, ?it/s]"
      ]
     },
     "metadata": {},
     "output_type": "display_data"
    },
    {
     "name": "stdout",
     "output_type": "stream",
     "text": [
      "epoch 38 summary for dec backbone: gauss_pointnetpp\n",
      "loss: 27.464, rec: 19.993, kl: 149.422\n",
      "kl_balance: 0.0010, kl_kp: 148.549, kl_feat: 873.232\n",
      "mu max: 0.8273630142211914, mu min: -0.9610006809234619\n",
      "obj_on max: 1.0, obj_on min: 0.0005281080375425518\n",
      "mean psnr: 27.907\n",
      "\n",
      "bb scores: max: 29.98, min: 6.96, mean: 20.39\n",
      "\n"
     ]
    },
    {
     "data": {
      "application/vnd.jupyter.widget-view+json": {
       "model_id": "62d4d84e2bd844fa9c22f8a3e7e70757",
       "version_major": 2,
       "version_minor": 0
      },
      "text/plain": [
       "  0%|          | 0/625 [00:00<?, ?it/s]"
      ]
     },
     "metadata": {},
     "output_type": "display_data"
    },
    {
     "name": "stdout",
     "output_type": "stream",
     "text": [
      "epoch 39 summary for dec backbone: gauss_pointnetpp\n",
      "loss: 26.983, rec: 19.553, kl: 148.600\n",
      "kl_balance: 0.0010, kl_kp: 147.724, kl_feat: 876.032\n",
      "mu max: 0.8355500102043152, mu min: -0.961559534072876\n",
      "obj_on max: 1.0, obj_on min: 0.00020915214554406703\n",
      "mean psnr: 28.006\n",
      "\n"
     ]
    },
    {
     "data": {
      "application/vnd.jupyter.widget-view+json": {
       "model_id": "db34ded961af48898bb0eb0b0da7f756",
       "version_major": 2,
       "version_minor": 0
      },
      "text/plain": [
       "  0%|          | 0/625 [00:00<?, ?it/s]"
      ]
     },
     "metadata": {},
     "output_type": "display_data"
    },
    {
     "name": "stdout",
     "output_type": "stream",
     "text": [
      "epoch 40 summary for dec backbone: gauss_pointnetpp\n",
      "loss: 25.144, rec: 17.779, kl: 147.313\n",
      "kl_balance: 0.0010, kl_kp: 146.462, kl_feat: 850.840\n",
      "mu max: 0.8036053776741028, mu min: -0.9552882313728333\n",
      "obj_on max: 1.0, obj_on min: 0.00027074594981968403\n",
      "mean psnr: 28.416\n",
      "\n",
      "bb scores: max: 36.18, min: 6.75, mean: 21.19\n",
      "\n"
     ]
    },
    {
     "data": {
      "application/vnd.jupyter.widget-view+json": {
       "model_id": "d38495cfa357466eab0cf2b1b245980a",
       "version_major": 2,
       "version_minor": 0
      },
      "text/plain": [
       "  0%|          | 0/625 [00:00<?, ?it/s]"
      ]
     },
     "metadata": {},
     "output_type": "display_data"
    },
    {
     "name": "stdout",
     "output_type": "stream",
     "text": [
      "epoch 41 summary for dec backbone: gauss_pointnetpp\n",
      "loss: 25.053, rec: 17.714, kl: 146.767\n",
      "kl_balance: 0.0010, kl_kp: 145.939, kl_feat: 828.094\n",
      "mu max: 0.892311692237854, mu min: -0.9848070740699768\n",
      "obj_on max: 1.0, obj_on min: 1.7730179024511017e-05\n",
      "mean psnr: 28.435\n",
      "\n"
     ]
    },
    {
     "data": {
      "application/vnd.jupyter.widget-view+json": {
       "model_id": "7fe64b970d554acb8d24b2ef2d73b053",
       "version_major": 2,
       "version_minor": 0
      },
      "text/plain": [
       "  0%|          | 0/625 [00:00<?, ?it/s]"
      ]
     },
     "metadata": {},
     "output_type": "display_data"
    },
    {
     "name": "stdout",
     "output_type": "stream",
     "text": [
      "epoch 42 summary for dec backbone: gauss_pointnetpp\n",
      "loss: 24.780, rec: 17.502, kl: 145.552\n",
      "kl_balance: 0.0010, kl_kp: 144.736, kl_feat: 816.375\n",
      "mu max: 0.8598074316978455, mu min: -0.9633503556251526\n",
      "obj_on max: 1.0, obj_on min: 7.587993604829535e-05\n",
      "mean psnr: 28.486\n",
      "\n",
      "bb scores: max: 32.76, min: 6.36, mean: 20.63\n",
      "\n"
     ]
    },
    {
     "data": {
      "application/vnd.jupyter.widget-view+json": {
       "model_id": "b299362d9ad543a794e52fe3a3d623fd",
       "version_major": 2,
       "version_minor": 0
      },
      "text/plain": [
       "  0%|          | 0/625 [00:00<?, ?it/s]"
      ]
     },
     "metadata": {},
     "output_type": "display_data"
    },
    {
     "name": "stdout",
     "output_type": "stream",
     "text": [
      "epoch 43 summary for dec backbone: gauss_pointnetpp\n",
      "loss: 24.685, rec: 17.401, kl: 145.682\n",
      "kl_balance: 0.0010, kl_kp: 144.874, kl_feat: 808.093\n",
      "mu max: 0.8871211409568787, mu min: -0.9598140716552734\n",
      "obj_on max: 1.0, obj_on min: 0.00014082519919611514\n",
      "mean psnr: 28.509\n",
      "\n"
     ]
    },
    {
     "data": {
      "application/vnd.jupyter.widget-view+json": {
       "model_id": "b558a80d1d8a43a8ac4883be53e51ac9",
       "version_major": 2,
       "version_minor": 0
      },
      "text/plain": [
       "  0%|          | 0/625 [00:00<?, ?it/s]"
      ]
     },
     "metadata": {},
     "output_type": "display_data"
    },
    {
     "name": "stdout",
     "output_type": "stream",
     "text": [
      "epoch 44 summary for dec backbone: gauss_pointnetpp\n",
      "loss: 24.469, rec: 17.227, kl: 144.821\n",
      "kl_balance: 0.0010, kl_kp: 144.027, kl_feat: 793.991\n",
      "mu max: 0.8571006059646606, mu min: -0.9570517539978027\n",
      "obj_on max: 1.0, obj_on min: 0.000169438382727094\n",
      "mean psnr: 28.553\n",
      "\n",
      "bb scores: max: 32.65, min: 7.16, mean: 21.10\n",
      "\n"
     ]
    },
    {
     "data": {
      "application/vnd.jupyter.widget-view+json": {
       "model_id": "97dfcf2aca5c4f4db3a16ae9bed62ad1",
       "version_major": 2,
       "version_minor": 0
      },
      "text/plain": [
       "  0%|          | 0/625 [00:00<?, ?it/s]"
      ]
     },
     "metadata": {},
     "output_type": "display_data"
    },
    {
     "name": "stdout",
     "output_type": "stream",
     "text": [
      "epoch 45 summary for dec backbone: gauss_pointnetpp\n",
      "loss: 24.457, rec: 17.234, kl: 144.477\n",
      "kl_balance: 0.0010, kl_kp: 143.696, kl_feat: 780.857\n",
      "mu max: 0.8287784457206726, mu min: -0.9809794425964355\n",
      "obj_on max: 1.0, obj_on min: 6.970467893552268e-06\n",
      "mean psnr: 28.551\n",
      "\n"
     ]
    },
    {
     "data": {
      "application/vnd.jupyter.widget-view+json": {
       "model_id": "9472d8ccf30f463e95844d6c025616b6",
       "version_major": 2,
       "version_minor": 0
      },
      "text/plain": [
       "  0%|          | 0/625 [00:00<?, ?it/s]"
      ]
     },
     "metadata": {},
     "output_type": "display_data"
    },
    {
     "name": "stdout",
     "output_type": "stream",
     "text": [
      "epoch 46 summary for dec backbone: gauss_pointnetpp\n",
      "loss: 24.268, rec: 17.071, kl: 143.937\n",
      "kl_balance: 0.0010, kl_kp: 143.166, kl_feat: 770.954\n",
      "mu max: 0.859454870223999, mu min: -0.9537683129310608\n",
      "obj_on max: 1.0, obj_on min: 4.373391129774973e-05\n",
      "mean psnr: 28.593\n",
      "\n",
      "bb scores: max: 34.57, min: 5.95, mean: 20.31\n",
      "\n"
     ]
    },
    {
     "data": {
      "application/vnd.jupyter.widget-view+json": {
       "model_id": "200d6a3118334afbbc50f9f99bebdfbe",
       "version_major": 2,
       "version_minor": 0
      },
      "text/plain": [
       "  0%|          | 0/625 [00:00<?, ?it/s]"
      ]
     },
     "metadata": {},
     "output_type": "display_data"
    },
    {
     "name": "stdout",
     "output_type": "stream",
     "text": [
      "epoch 47 summary for dec backbone: gauss_pointnetpp\n",
      "loss: 24.160, rec: 16.965, kl: 143.911\n",
      "kl_balance: 0.0010, kl_kp: 143.138, kl_feat: 772.912\n",
      "mu max: 0.8592996597290039, mu min: -0.9842153787612915\n",
      "obj_on max: 1.0, obj_on min: 7.261878636199981e-05\n",
      "mean psnr: 28.620\n",
      "\n"
     ]
    },
    {
     "data": {
      "application/vnd.jupyter.widget-view+json": {
       "model_id": "294f8a9689de4e05a807493ffbcdfe93",
       "version_major": 2,
       "version_minor": 0
      },
      "text/plain": [
       "  0%|          | 0/625 [00:00<?, ?it/s]"
      ]
     },
     "metadata": {},
     "output_type": "display_data"
    },
    {
     "name": "stdout",
     "output_type": "stream",
     "text": [
      "epoch 48 summary for dec backbone: gauss_pointnetpp\n",
      "loss: 24.054, rec: 16.868, kl: 143.706\n",
      "kl_balance: 0.0010, kl_kp: 142.935, kl_feat: 771.164\n",
      "mu max: 0.9034538269042969, mu min: -0.934206485748291\n",
      "obj_on max: 1.0, obj_on min: 9.434163075638935e-05\n",
      "mean psnr: 28.644\n",
      "\n",
      "bb scores: max: 31.36, min: 7.04, mean: 20.87\n",
      "\n"
     ]
    },
    {
     "data": {
      "application/vnd.jupyter.widget-view+json": {
       "model_id": "416ed45454094a5981f57ae0f9c6c498",
       "version_major": 2,
       "version_minor": 0
      },
      "text/plain": [
       "  0%|          | 0/625 [00:00<?, ?it/s]"
      ]
     },
     "metadata": {},
     "output_type": "display_data"
    },
    {
     "name": "stdout",
     "output_type": "stream",
     "text": [
      "epoch 49 summary for dec backbone: gauss_pointnetpp\n",
      "loss: 23.873, rec: 16.722, kl: 143.034\n",
      "kl_balance: 0.0010, kl_kp: 142.277, kl_feat: 756.995\n",
      "mu max: 0.8211082816123962, mu min: -0.987450897693634\n",
      "obj_on max: 1.0, obj_on min: 7.738320709904656e-05\n",
      "mean psnr: 28.682\n",
      "\n"
     ]
    },
    {
     "data": {
      "application/vnd.jupyter.widget-view+json": {
       "model_id": "6672901c01174192880dbcbc829cf8a7",
       "version_major": 2,
       "version_minor": 0
      },
      "text/plain": [
       "  0%|          | 0/625 [00:00<?, ?it/s]"
      ]
     },
     "metadata": {},
     "output_type": "display_data"
    },
    {
     "name": "stdout",
     "output_type": "stream",
     "text": [
      "epoch 50 summary for dec backbone: gauss_pointnetpp\n",
      "loss: 23.781, rec: 16.648, kl: 142.658\n",
      "kl_balance: 0.0010, kl_kp: 141.910, kl_feat: 748.408\n",
      "mu max: 0.8891346454620361, mu min: -0.9660264849662781\n",
      "obj_on max: 1.0, obj_on min: 1.895612513180822e-05\n",
      "mean psnr: 28.703\n",
      "\n",
      "bb scores: max: 34.93, min: 7.26, mean: 20.91\n",
      "\n"
     ]
    },
    {
     "data": {
      "application/vnd.jupyter.widget-view+json": {
       "model_id": "d243b29d7f974132bb4475782e4e95ab",
       "version_major": 2,
       "version_minor": 0
      },
      "text/plain": [
       "  0%|          | 0/625 [00:00<?, ?it/s]"
      ]
     },
     "metadata": {},
     "output_type": "display_data"
    },
    {
     "name": "stdout",
     "output_type": "stream",
     "text": [
      "epoch 51 summary for dec backbone: gauss_pointnetpp\n",
      "loss: 23.807, rec: 16.671, kl: 142.716\n",
      "kl_balance: 0.0010, kl_kp: 141.974, kl_feat: 741.988\n",
      "mu max: 0.8399448394775391, mu min: -0.9664925336837769\n",
      "obj_on max: 1.0, obj_on min: 3.728926458279602e-05\n",
      "mean psnr: 28.697\n",
      "\n"
     ]
    },
    {
     "data": {
      "application/vnd.jupyter.widget-view+json": {
       "model_id": "d8b6f291822e4daa88111ee96ccd98a8",
       "version_major": 2,
       "version_minor": 0
      },
      "text/plain": [
       "  0%|          | 0/625 [00:00<?, ?it/s]"
      ]
     },
     "metadata": {},
     "output_type": "display_data"
    },
    {
     "name": "stdout",
     "output_type": "stream",
     "text": [
      "epoch 52 summary for dec backbone: gauss_pointnetpp\n",
      "loss: 23.709, rec: 16.584, kl: 142.513\n",
      "kl_balance: 0.0010, kl_kp: 141.773, kl_feat: 740.126\n",
      "mu max: 0.891572117805481, mu min: -0.9444088339805603\n",
      "obj_on max: 1.0, obj_on min: 4.135057679377496e-05\n",
      "mean psnr: 28.721\n",
      "\n",
      "bb scores: max: 31.09, min: 7.76, mean: 20.82\n",
      "\n"
     ]
    },
    {
     "data": {
      "application/vnd.jupyter.widget-view+json": {
       "model_id": "afbd8a07f1aa439e8b57f24f8b95a3c8",
       "version_major": 2,
       "version_minor": 0
      },
      "text/plain": [
       "  0%|          | 0/625 [00:00<?, ?it/s]"
      ]
     },
     "metadata": {},
     "output_type": "display_data"
    },
    {
     "name": "stdout",
     "output_type": "stream",
     "text": [
      "epoch 53 summary for dec backbone: gauss_pointnetpp\n",
      "loss: 23.671, rec: 16.584, kl: 141.744\n",
      "kl_balance: 0.0010, kl_kp: 140.998, kl_feat: 746.247\n",
      "mu max: 0.8107391595840454, mu min: -0.9558994770050049\n",
      "obj_on max: 1.0, obj_on min: 5.185990085010417e-05\n",
      "mean psnr: 28.718\n",
      "\n"
     ]
    },
    {
     "data": {
      "application/vnd.jupyter.widget-view+json": {
       "model_id": "3375193a318d4909a8e1ac80b3f71183",
       "version_major": 2,
       "version_minor": 0
      },
      "text/plain": [
       "  0%|          | 0/625 [00:00<?, ?it/s]"
      ]
     },
     "metadata": {},
     "output_type": "display_data"
    },
    {
     "name": "stdout",
     "output_type": "stream",
     "text": [
      "epoch 54 summary for dec backbone: gauss_pointnetpp\n",
      "loss: 23.542, rec: 16.449, kl: 141.848\n",
      "kl_balance: 0.0010, kl_kp: 141.108, kl_feat: 740.335\n",
      "mu max: 0.8945168256759644, mu min: -0.9856855273246765\n",
      "obj_on max: 1.0, obj_on min: 3.8892114389454946e-05\n",
      "mean psnr: 28.754\n",
      "\n",
      "bb scores: max: 33.45, min: 6.60, mean: 20.91\n",
      "\n"
     ]
    },
    {
     "data": {
      "application/vnd.jupyter.widget-view+json": {
       "model_id": "eac092c64e1b4c39b7676988b2ca511a",
       "version_major": 2,
       "version_minor": 0
      },
      "text/plain": [
       "  0%|          | 0/625 [00:00<?, ?it/s]"
      ]
     },
     "metadata": {},
     "output_type": "display_data"
    },
    {
     "name": "stdout",
     "output_type": "stream",
     "text": [
      "epoch 55 summary for dec backbone: gauss_pointnetpp\n",
      "loss: 23.300, rec: 16.236, kl: 141.291\n",
      "kl_balance: 0.0010, kl_kp: 140.562, kl_feat: 728.619\n",
      "mu max: 0.8451743125915527, mu min: -0.9167193174362183\n",
      "obj_on max: 1.0, obj_on min: 0.00018315007037017494\n",
      "mean psnr: 28.813\n",
      "\n"
     ]
    },
    {
     "data": {
      "application/vnd.jupyter.widget-view+json": {
       "model_id": "96a6b84a55eb407d93918b8a3f39c755",
       "version_major": 2,
       "version_minor": 0
      },
      "text/plain": [
       "  0%|          | 0/625 [00:00<?, ?it/s]"
      ]
     },
     "metadata": {},
     "output_type": "display_data"
    },
    {
     "name": "stdout",
     "output_type": "stream",
     "text": [
      "epoch 56 summary for dec backbone: gauss_pointnetpp\n",
      "loss: 23.305, rec: 16.239, kl: 141.321\n",
      "kl_balance: 0.0010, kl_kp: 140.595, kl_feat: 726.004\n",
      "mu max: 0.8486317992210388, mu min: -0.9830200672149658\n",
      "obj_on max: 1.0, obj_on min: 7.196740170911653e-06\n",
      "mean psnr: 28.810\n",
      "\n",
      "bb scores: max: 35.48, min: 6.31, mean: 20.58\n",
      "\n"
     ]
    },
    {
     "data": {
      "application/vnd.jupyter.widget-view+json": {
       "model_id": "7eda8ce6bc3448ad89e5d43c4eacfafd",
       "version_major": 2,
       "version_minor": 0
      },
      "text/plain": [
       "  0%|          | 0/625 [00:00<?, ?it/s]"
      ]
     },
     "metadata": {},
     "output_type": "display_data"
    },
    {
     "name": "stdout",
     "output_type": "stream",
     "text": [
      "epoch 57 summary for dec backbone: gauss_pointnetpp\n",
      "loss: 23.225, rec: 16.155, kl: 141.404\n",
      "kl_balance: 0.0010, kl_kp: 140.673, kl_feat: 731.268\n",
      "mu max: 0.8574240207672119, mu min: -0.9870909452438354\n",
      "obj_on max: 1.0, obj_on min: 2.4387554731220007e-05\n",
      "mean psnr: 28.832\n",
      "\n"
     ]
    },
    {
     "data": {
      "application/vnd.jupyter.widget-view+json": {
       "model_id": "7e1b0efd5e9b41e3906e4a34c08d4205",
       "version_major": 2,
       "version_minor": 0
      },
      "text/plain": [
       "  0%|          | 0/625 [00:00<?, ?it/s]"
      ]
     },
     "metadata": {},
     "output_type": "display_data"
    },
    {
     "name": "stdout",
     "output_type": "stream",
     "text": [
      "epoch 58 summary for dec backbone: gauss_pointnetpp\n",
      "loss: 23.285, rec: 16.259, kl: 140.524\n",
      "kl_balance: 0.0010, kl_kp: 139.808, kl_feat: 716.448\n",
      "mu max: 0.8485003709793091, mu min: -0.9791617393493652\n",
      "obj_on max: 1.0, obj_on min: 5.5373584473272786e-05\n",
      "mean psnr: 28.804\n",
      "\n",
      "bb scores: max: 32.99, min: 7.26, mean: 20.65\n",
      "\n"
     ]
    },
    {
     "data": {
      "application/vnd.jupyter.widget-view+json": {
       "model_id": "b0e3a75f8c1446cdbe629655292981d5",
       "version_major": 2,
       "version_minor": 0
      },
      "text/plain": [
       "  0%|          | 0/625 [00:00<?, ?it/s]"
      ]
     },
     "metadata": {},
     "output_type": "display_data"
    },
    {
     "name": "stdout",
     "output_type": "stream",
     "text": [
      "epoch 59 summary for dec backbone: gauss_pointnetpp\n",
      "loss: 23.160, rec: 16.138, kl: 140.454\n",
      "kl_balance: 0.0010, kl_kp: 139.740, kl_feat: 713.214\n",
      "mu max: 0.8918576836585999, mu min: -0.9293876886367798\n",
      "obj_on max: 1.0, obj_on min: 8.989450725493953e-05\n",
      "mean psnr: 28.839\n",
      "\n"
     ]
    },
    {
     "data": {
      "application/vnd.jupyter.widget-view+json": {
       "model_id": "6c2046b4e18f44098a1117c8e1dfdbe6",
       "version_major": 2,
       "version_minor": 0
      },
      "text/plain": [
       "  0%|          | 0/625 [00:00<?, ?it/s]"
      ]
     },
     "metadata": {},
     "output_type": "display_data"
    },
    {
     "name": "stdout",
     "output_type": "stream",
     "text": [
      "epoch 60 summary for dec backbone: gauss_pointnetpp\n",
      "loss: 23.124, rec: 16.105, kl: 140.382\n",
      "kl_balance: 0.0010, kl_kp: 139.670, kl_feat: 711.573\n",
      "mu max: 0.8965376019477844, mu min: -0.9786730408668518\n",
      "obj_on max: 1.0, obj_on min: 2.967761247418821e-05\n",
      "mean psnr: 28.847\n",
      "\n",
      "bb scores: max: 33.10, min: 5.64, mean: 20.92\n",
      "\n"
     ]
    },
    {
     "data": {
      "application/vnd.jupyter.widget-view+json": {
       "model_id": "469a306970254ea9b3b4107186212f6c",
       "version_major": 2,
       "version_minor": 0
      },
      "text/plain": [
       "  0%|          | 0/625 [00:00<?, ?it/s]"
      ]
     },
     "metadata": {},
     "output_type": "display_data"
    },
    {
     "name": "stdout",
     "output_type": "stream",
     "text": [
      "epoch 61 summary for dec backbone: gauss_pointnetpp\n",
      "loss: 22.935, rec: 15.944, kl: 139.813\n",
      "kl_balance: 0.0010, kl_kp: 139.101, kl_feat: 712.169\n",
      "mu max: 0.8722364902496338, mu min: -0.9660372138023376\n",
      "obj_on max: 1.0, obj_on min: 1.9264443835709244e-05\n",
      "mean psnr: 28.891\n",
      "\n"
     ]
    },
    {
     "data": {
      "application/vnd.jupyter.widget-view+json": {
       "model_id": "e0a007f2d1af446dbb5ffe288d031eb7",
       "version_major": 2,
       "version_minor": 0
      },
      "text/plain": [
       "  0%|          | 0/625 [00:00<?, ?it/s]"
      ]
     },
     "metadata": {},
     "output_type": "display_data"
    },
    {
     "name": "stdout",
     "output_type": "stream",
     "text": [
      "epoch 62 summary for dec backbone: gauss_pointnetpp\n",
      "loss: 22.845, rec: 15.889, kl: 139.123\n",
      "kl_balance: 0.0010, kl_kp: 138.422, kl_feat: 700.953\n",
      "mu max: 0.83762127161026, mu min: -0.9713078737258911\n",
      "obj_on max: 1.0, obj_on min: 2.4925930119934492e-05\n",
      "mean psnr: 28.908\n",
      "\n",
      "bb scores: max: 35.26, min: 5.94, mean: 20.79\n",
      "\n"
     ]
    },
    {
     "data": {
      "application/vnd.jupyter.widget-view+json": {
       "model_id": "daf6a7327ca2427c8cfd88e3c73f0f6c",
       "version_major": 2,
       "version_minor": 0
      },
      "text/plain": [
       "  0%|          | 0/625 [00:00<?, ?it/s]"
      ]
     },
     "metadata": {},
     "output_type": "display_data"
    },
    {
     "name": "stdout",
     "output_type": "stream",
     "text": [
      "epoch 63 summary for dec backbone: gauss_pointnetpp\n",
      "loss: 22.737, rec: 15.766, kl: 139.422\n",
      "kl_balance: 0.0010, kl_kp: 138.726, kl_feat: 695.619\n",
      "mu max: 0.8581750392913818, mu min: -0.9709731340408325\n",
      "obj_on max: 1.0, obj_on min: 2.0856632545473985e-05\n",
      "mean psnr: 28.937\n",
      "\n"
     ]
    },
    {
     "data": {
      "application/vnd.jupyter.widget-view+json": {
       "model_id": "425a171601c84e18a4af2aff4f2c38ac",
       "version_major": 2,
       "version_minor": 0
      },
      "text/plain": [
       "  0%|          | 0/625 [00:00<?, ?it/s]"
      ]
     },
     "metadata": {},
     "output_type": "display_data"
    },
    {
     "name": "stdout",
     "output_type": "stream",
     "text": [
      "epoch 64 summary for dec backbone: gauss_pointnetpp\n",
      "loss: 22.456, rec: 15.520, kl: 138.707\n",
      "kl_balance: 0.0010, kl_kp: 138.013, kl_feat: 694.197\n",
      "mu max: 0.9017370939254761, mu min: -0.9683125019073486\n",
      "obj_on max: 1.0, obj_on min: 3.567141902749427e-05\n",
      "mean psnr: 29.009\n",
      "\n",
      "bb scores: max: 32.60, min: 6.12, mean: 20.87\n",
      "\n"
     ]
    },
    {
     "data": {
      "application/vnd.jupyter.widget-view+json": {
       "model_id": "6a38c166eb5140afafbba3568b3093d7",
       "version_major": 2,
       "version_minor": 0
      },
      "text/plain": [
       "  0%|          | 0/625 [00:00<?, ?it/s]"
      ]
     },
     "metadata": {},
     "output_type": "display_data"
    },
    {
     "name": "stdout",
     "output_type": "stream",
     "text": [
      "epoch 65 summary for dec backbone: gauss_pointnetpp\n",
      "loss: 22.568, rec: 15.619, kl: 138.986\n",
      "kl_balance: 0.0010, kl_kp: 138.286, kl_feat: 699.915\n",
      "mu max: 0.8751052618026733, mu min: -0.9870088696479797\n",
      "obj_on max: 1.0, obj_on min: 1.0556740562606137e-05\n",
      "mean psnr: 28.980\n",
      "\n"
     ]
    },
    {
     "data": {
      "application/vnd.jupyter.widget-view+json": {
       "model_id": "ee7f21f2e7434f2db0cf7646399a81e5",
       "version_major": 2,
       "version_minor": 0
      },
      "text/plain": [
       "  0%|          | 0/625 [00:00<?, ?it/s]"
      ]
     },
     "metadata": {},
     "output_type": "display_data"
    },
    {
     "name": "stdout",
     "output_type": "stream",
     "text": [
      "epoch 66 summary for dec backbone: gauss_pointnetpp\n",
      "loss: 22.588, rec: 15.653, kl: 138.697\n",
      "kl_balance: 0.0010, kl_kp: 138.007, kl_feat: 689.635\n",
      "mu max: 0.8949154019355774, mu min: -0.9721106886863708\n",
      "obj_on max: 1.0, obj_on min: 1.3757253327639773e-05\n",
      "mean psnr: 28.971\n",
      "\n",
      "bb scores: max: 34.33, min: 6.36, mean: 20.37\n",
      "\n"
     ]
    },
    {
     "data": {
      "application/vnd.jupyter.widget-view+json": {
       "model_id": "cc95cbb3f3e3423e893bdf957792e982",
       "version_major": 2,
       "version_minor": 0
      },
      "text/plain": [
       "  0%|          | 0/625 [00:00<?, ?it/s]"
      ]
     },
     "metadata": {},
     "output_type": "display_data"
    },
    {
     "name": "stdout",
     "output_type": "stream",
     "text": [
      "epoch 67 summary for dec backbone: gauss_pointnetpp\n",
      "loss: 22.446, rec: 15.527, kl: 138.371\n",
      "kl_balance: 0.0010, kl_kp: 137.678, kl_feat: 692.849\n",
      "mu max: 0.8257936239242554, mu min: -0.9160951375961304\n",
      "obj_on max: 1.0, obj_on min: 3.789702168432996e-05\n",
      "mean psnr: 29.005\n",
      "\n"
     ]
    },
    {
     "data": {
      "application/vnd.jupyter.widget-view+json": {
       "model_id": "c638371c4e7b4012bfc06ac158f47747",
       "version_major": 2,
       "version_minor": 0
      },
      "text/plain": [
       "  0%|          | 0/625 [00:00<?, ?it/s]"
      ]
     },
     "metadata": {},
     "output_type": "display_data"
    },
    {
     "name": "stdout",
     "output_type": "stream",
     "text": [
      "epoch 68 summary for dec backbone: gauss_pointnetpp\n",
      "loss: 22.400, rec: 15.495, kl: 138.113\n",
      "kl_balance: 0.0010, kl_kp: 137.424, kl_feat: 688.918\n",
      "mu max: 0.8161712288856506, mu min: -0.9159221649169922\n",
      "obj_on max: 1.0, obj_on min: 1.71751671587117e-05\n",
      "mean psnr: 29.014\n",
      "\n",
      "bb scores: max: 37.59, min: 6.49, mean: 20.79\n",
      "\n"
     ]
    },
    {
     "data": {
      "application/vnd.jupyter.widget-view+json": {
       "model_id": "0d2b1c5f6dc4450abaeda718a963d36a",
       "version_major": 2,
       "version_minor": 0
      },
      "text/plain": [
       "  0%|          | 0/625 [00:00<?, ?it/s]"
      ]
     },
     "metadata": {},
     "output_type": "display_data"
    },
    {
     "name": "stdout",
     "output_type": "stream",
     "text": [
      "epoch 69 summary for dec backbone: gauss_pointnetpp\n",
      "loss: 22.428, rec: 15.514, kl: 138.277\n",
      "kl_balance: 0.0010, kl_kp: 137.595, kl_feat: 681.876\n",
      "mu max: 0.8605301976203918, mu min: -0.9372208118438721\n",
      "obj_on max: 1.0, obj_on min: 2.2449199605034664e-05\n",
      "mean psnr: 29.009\n",
      "\n"
     ]
    },
    {
     "data": {
      "application/vnd.jupyter.widget-view+json": {
       "model_id": "ecdaf88af7a14295bd1199b74f33060a",
       "version_major": 2,
       "version_minor": 0
      },
      "text/plain": [
       "  0%|          | 0/625 [00:00<?, ?it/s]"
      ]
     },
     "metadata": {},
     "output_type": "display_data"
    },
    {
     "name": "stdout",
     "output_type": "stream",
     "text": [
      "epoch 70 summary for dec backbone: gauss_pointnetpp\n",
      "loss: 22.394, rec: 15.522, kl: 137.437\n",
      "kl_balance: 0.0010, kl_kp: 136.760, kl_feat: 676.466\n",
      "mu max: 0.8904288411140442, mu min: -0.9835120439529419\n",
      "obj_on max: 1.0, obj_on min: 8.049306416069157e-06\n",
      "mean psnr: 29.007\n",
      "\n",
      "bb scores: max: 37.71, min: 6.02, mean: 20.08\n",
      "\n"
     ]
    },
    {
     "data": {
      "application/vnd.jupyter.widget-view+json": {
       "model_id": "5bb298dce8ca434ba70af886d58e5522",
       "version_major": 2,
       "version_minor": 0
      },
      "text/plain": [
       "  0%|          | 0/625 [00:00<?, ?it/s]"
      ]
     },
     "metadata": {},
     "output_type": "display_data"
    },
    {
     "name": "stdout",
     "output_type": "stream",
     "text": [
      "epoch 71 summary for dec backbone: gauss_pointnetpp\n",
      "loss: 22.286, rec: 15.429, kl: 137.147\n",
      "kl_balance: 0.0010, kl_kp: 136.464, kl_feat: 682.970\n",
      "mu max: 0.9015529751777649, mu min: -0.9965659379959106\n",
      "obj_on max: 1.0, obj_on min: 4.7560092752974015e-06\n",
      "mean psnr: 29.033\n",
      "\n"
     ]
    },
    {
     "data": {
      "application/vnd.jupyter.widget-view+json": {
       "model_id": "bf0b73bc702a49e4ad3da8592fba9acd",
       "version_major": 2,
       "version_minor": 0
      },
      "text/plain": [
       "  0%|          | 0/625 [00:00<?, ?it/s]"
      ]
     },
     "metadata": {},
     "output_type": "display_data"
    },
    {
     "name": "stdout",
     "output_type": "stream",
     "text": [
      "epoch 72 summary for dec backbone: gauss_pointnetpp\n",
      "loss: 22.140, rec: 15.257, kl: 137.651\n",
      "kl_balance: 0.0010, kl_kp: 136.965, kl_feat: 685.237\n",
      "mu max: 0.8802774548530579, mu min: -0.9504134058952332\n",
      "obj_on max: 1.0, obj_on min: 3.7536014133365825e-05\n",
      "mean psnr: 29.081\n",
      "\n",
      "bb scores: max: 33.84, min: 7.30, mean: 20.91\n",
      "\n"
     ]
    },
    {
     "data": {
      "application/vnd.jupyter.widget-view+json": {
       "model_id": "a05f633461b34af1aa888846009f336a",
       "version_major": 2,
       "version_minor": 0
      },
      "text/plain": [
       "  0%|          | 0/625 [00:00<?, ?it/s]"
      ]
     },
     "metadata": {},
     "output_type": "display_data"
    },
    {
     "name": "stdout",
     "output_type": "stream",
     "text": [
      "epoch 73 summary for dec backbone: gauss_pointnetpp\n",
      "loss: 21.951, rec: 15.111, kl: 136.798\n",
      "kl_balance: 0.0010, kl_kp: 136.125, kl_feat: 673.129\n",
      "mu max: 0.8607102632522583, mu min: -0.9824416041374207\n",
      "obj_on max: 1.0, obj_on min: 1.68478272826178e-05\n",
      "mean psnr: 29.122\n",
      "\n"
     ]
    },
    {
     "data": {
      "application/vnd.jupyter.widget-view+json": {
       "model_id": "191c5cb742e8438ca186aa76c171c916",
       "version_major": 2,
       "version_minor": 0
      },
      "text/plain": [
       "  0%|          | 0/625 [00:00<?, ?it/s]"
      ]
     },
     "metadata": {},
     "output_type": "display_data"
    },
    {
     "name": "stdout",
     "output_type": "stream",
     "text": [
      "epoch 74 summary for dec backbone: gauss_pointnetpp\n",
      "loss: 22.016, rec: 15.180, kl: 136.721\n",
      "kl_balance: 0.0010, kl_kp: 136.048, kl_feat: 672.704\n",
      "mu max: 0.8806837797164917, mu min: -0.988735556602478\n",
      "obj_on max: 1.0, obj_on min: 1.663144303165609e-06\n",
      "mean psnr: 29.103\n",
      "\n",
      "bb scores: max: 33.35, min: 6.41, mean: 20.40\n",
      "\n"
     ]
    },
    {
     "data": {
      "application/vnd.jupyter.widget-view+json": {
       "model_id": "e9a1b449fc3541d09c6ab055a1f541ec",
       "version_major": 2,
       "version_minor": 0
      },
      "text/plain": [
       "  0%|          | 0/625 [00:00<?, ?it/s]"
      ]
     },
     "metadata": {},
     "output_type": "display_data"
    },
    {
     "name": "stdout",
     "output_type": "stream",
     "text": [
      "epoch 75 summary for dec backbone: gauss_pointnetpp\n",
      "loss: 21.957, rec: 15.125, kl: 136.630\n",
      "kl_balance: 0.0010, kl_kp: 135.958, kl_feat: 672.002\n",
      "mu max: 0.8741626739501953, mu min: -0.9702419638633728\n",
      "obj_on max: 1.0, obj_on min: 8.393518510274589e-05\n",
      "mean psnr: 29.120\n",
      "\n"
     ]
    },
    {
     "data": {
      "application/vnd.jupyter.widget-view+json": {
       "model_id": "0860b916688744cd94b7c61a76aec57b",
       "version_major": 2,
       "version_minor": 0
      },
      "text/plain": [
       "  0%|          | 0/625 [00:00<?, ?it/s]"
      ]
     },
     "metadata": {},
     "output_type": "display_data"
    },
    {
     "name": "stdout",
     "output_type": "stream",
     "text": [
      "epoch 76 summary for dec backbone: gauss_pointnetpp\n",
      "loss: 21.808, rec: 15.008, kl: 136.010\n",
      "kl_balance: 0.0010, kl_kp: 135.338, kl_feat: 672.587\n",
      "mu max: 0.8561599254608154, mu min: -0.979633629322052\n",
      "obj_on max: 1.0, obj_on min: 5.2181359933456406e-05\n",
      "mean psnr: 29.153\n",
      "\n",
      "bb scores: max: 33.74, min: 7.05, mean: 20.80\n",
      "\n"
     ]
    },
    {
     "data": {
      "application/vnd.jupyter.widget-view+json": {
       "model_id": "c4f3ade78b6045429c2c814d7132609b",
       "version_major": 2,
       "version_minor": 0
      },
      "text/plain": [
       "  0%|          | 0/625 [00:00<?, ?it/s]"
      ]
     },
     "metadata": {},
     "output_type": "display_data"
    },
    {
     "name": "stdout",
     "output_type": "stream",
     "text": [
      "epoch 77 summary for dec backbone: gauss_pointnetpp\n",
      "loss: 21.883, rec: 15.093, kl: 135.796\n",
      "kl_balance: 0.0010, kl_kp: 135.133, kl_feat: 662.531\n",
      "mu max: 0.8747150301933289, mu min: -0.9757344722747803\n",
      "obj_on max: 1.0, obj_on min: 4.4930951844435185e-05\n",
      "mean psnr: 29.130\n",
      "\n"
     ]
    },
    {
     "data": {
      "application/vnd.jupyter.widget-view+json": {
       "model_id": "d6fbffadbbc44ca4a7a9316efb39381d",
       "version_major": 2,
       "version_minor": 0
      },
      "text/plain": [
       "  0%|          | 0/625 [00:00<?, ?it/s]"
      ]
     },
     "metadata": {},
     "output_type": "display_data"
    },
    {
     "name": "stdout",
     "output_type": "stream",
     "text": [
      "epoch 78 summary for dec backbone: gauss_pointnetpp\n",
      "loss: 21.774, rec: 14.954, kl: 136.401\n",
      "kl_balance: 0.0010, kl_kp: 135.739, kl_feat: 661.938\n",
      "mu max: 0.8861052393913269, mu min: -0.9514110088348389\n",
      "obj_on max: 1.0, obj_on min: 7.418506811518455e-06\n",
      "mean psnr: 29.170\n",
      "\n",
      "bb scores: max: 32.33, min: 6.82, mean: 20.24\n",
      "\n"
     ]
    },
    {
     "data": {
      "application/vnd.jupyter.widget-view+json": {
       "model_id": "c7d2eb3472cf4295a6b8c05e30dca279",
       "version_major": 2,
       "version_minor": 0
      },
      "text/plain": [
       "  0%|          | 0/625 [00:00<?, ?it/s]"
      ]
     },
     "metadata": {},
     "output_type": "display_data"
    },
    {
     "name": "stdout",
     "output_type": "stream",
     "text": [
      "epoch 79 summary for dec backbone: gauss_pointnetpp\n",
      "loss: 21.727, rec: 14.918, kl: 136.182\n",
      "kl_balance: 0.0010, kl_kp: 135.519, kl_feat: 662.866\n",
      "mu max: 0.8908357620239258, mu min: -0.9730678200721741\n",
      "obj_on max: 1.0, obj_on min: 2.259212669741828e-05\n",
      "mean psnr: 29.180\n",
      "\n"
     ]
    },
    {
     "data": {
      "application/vnd.jupyter.widget-view+json": {
       "model_id": "a6e8b41e369845d2994a32d0da57cbdc",
       "version_major": 2,
       "version_minor": 0
      },
      "text/plain": [
       "  0%|          | 0/625 [00:00<?, ?it/s]"
      ]
     },
     "metadata": {},
     "output_type": "display_data"
    },
    {
     "name": "stdout",
     "output_type": "stream",
     "text": [
      "epoch 80 summary for dec backbone: gauss_pointnetpp\n",
      "loss: 20.926, rec: 14.159, kl: 135.353\n",
      "kl_balance: 0.0010, kl_kp: 134.700, kl_feat: 653.026\n",
      "mu max: 0.8942803740501404, mu min: -0.9962977766990662\n",
      "obj_on max: 1.0, obj_on min: 3.7659676763723837e-06\n",
      "mean psnr: 29.406\n",
      "\n",
      "bb scores: max: 34.43, min: 7.15, mean: 20.51\n",
      "\n"
     ]
    },
    {
     "data": {
      "application/vnd.jupyter.widget-view+json": {
       "model_id": "c5fdfff677f24743b00bb8320ce5dbca",
       "version_major": 2,
       "version_minor": 0
      },
      "text/plain": [
       "  0%|          | 0/625 [00:00<?, ?it/s]"
      ]
     },
     "metadata": {},
     "output_type": "display_data"
    },
    {
     "name": "stdout",
     "output_type": "stream",
     "text": [
      "epoch 81 summary for dec backbone: gauss_pointnetpp\n",
      "loss: 20.698, rec: 13.926, kl: 135.435\n",
      "kl_balance: 0.0010, kl_kp: 134.794, kl_feat: 641.031\n",
      "mu max: 0.8694245219230652, mu min: -0.982475221157074\n",
      "obj_on max: 1.0, obj_on min: 1.3561209925683215e-05\n",
      "mean psnr: 29.477\n",
      "\n"
     ]
    },
    {
     "data": {
      "application/vnd.jupyter.widget-view+json": {
       "model_id": "4838330e4f3140f8b713a7f0217516b1",
       "version_major": 2,
       "version_minor": 0
      },
      "text/plain": [
       "  0%|          | 0/625 [00:00<?, ?it/s]"
      ]
     },
     "metadata": {},
     "output_type": "display_data"
    },
    {
     "name": "stdout",
     "output_type": "stream",
     "text": [
      "epoch 82 summary for dec backbone: gauss_pointnetpp\n",
      "loss: 20.510, rec: 13.772, kl: 134.770\n",
      "kl_balance: 0.0010, kl_kp: 134.127, kl_feat: 642.856\n",
      "mu max: 0.859086275100708, mu min: -0.9935160279273987\n",
      "obj_on max: 1.0, obj_on min: 2.1720979930250905e-06\n",
      "mean psnr: 29.526\n",
      "\n",
      "bb scores: max: 38.70, min: 5.62, mean: 20.92\n",
      "\n"
     ]
    },
    {
     "data": {
      "application/vnd.jupyter.widget-view+json": {
       "model_id": "b2dfdd9f2059488390b67d66057e7d88",
       "version_major": 2,
       "version_minor": 0
      },
      "text/plain": [
       "  0%|          | 0/625 [00:00<?, ?it/s]"
      ]
     },
     "metadata": {},
     "output_type": "display_data"
    },
    {
     "name": "stdout",
     "output_type": "stream",
     "text": [
      "epoch 83 summary for dec backbone: gauss_pointnetpp\n",
      "loss: 20.521, rec: 13.775, kl: 134.923\n",
      "kl_balance: 0.0010, kl_kp: 134.284, kl_feat: 638.775\n",
      "mu max: 0.8890537023544312, mu min: -0.9844862222671509\n",
      "obj_on max: 1.0, obj_on min: 4.7564494707330596e-06\n",
      "mean psnr: 29.524\n",
      "\n"
     ]
    },
    {
     "data": {
      "application/vnd.jupyter.widget-view+json": {
       "model_id": "dcfea480dad74b83a1a2a387eb98268a",
       "version_major": 2,
       "version_minor": 0
      },
      "text/plain": [
       "  0%|          | 0/625 [00:00<?, ?it/s]"
      ]
     },
     "metadata": {},
     "output_type": "display_data"
    },
    {
     "name": "stdout",
     "output_type": "stream",
     "text": [
      "epoch 84 summary for dec backbone: gauss_pointnetpp\n",
      "loss: 20.446, rec: 13.708, kl: 134.768\n",
      "kl_balance: 0.0010, kl_kp: 134.128, kl_feat: 639.518\n",
      "mu max: 0.9115461707115173, mu min: -0.989315927028656\n",
      "obj_on max: 1.0, obj_on min: 3.2339075914933346e-06\n",
      "mean psnr: 29.546\n",
      "\n",
      "bb scores: max: 31.69, min: 5.92, mean: 20.38\n",
      "\n"
     ]
    },
    {
     "data": {
      "application/vnd.jupyter.widget-view+json": {
       "model_id": "7e76ce4b4a7e4859bd16f2529693d51e",
       "version_major": 2,
       "version_minor": 0
      },
      "text/plain": [
       "  0%|          | 0/625 [00:00<?, ?it/s]"
      ]
     },
     "metadata": {},
     "output_type": "display_data"
    },
    {
     "name": "stdout",
     "output_type": "stream",
     "text": [
      "epoch 85 summary for dec backbone: gauss_pointnetpp\n",
      "loss: 20.442, rec: 13.723, kl: 134.379\n",
      "kl_balance: 0.0010, kl_kp: 133.745, kl_feat: 634.638\n",
      "mu max: 0.8995150923728943, mu min: -0.9772239327430725\n",
      "obj_on max: 1.0, obj_on min: 2.4256920369225554e-05\n",
      "mean psnr: 29.540\n",
      "\n"
     ]
    },
    {
     "data": {
      "application/vnd.jupyter.widget-view+json": {
       "model_id": "0e1c6a055356440b9e63e756a385d004",
       "version_major": 2,
       "version_minor": 0
      },
      "text/plain": [
       "  0%|          | 0/625 [00:00<?, ?it/s]"
      ]
     },
     "metadata": {},
     "output_type": "display_data"
    },
    {
     "name": "stdout",
     "output_type": "stream",
     "text": [
      "epoch 86 summary for dec backbone: gauss_pointnetpp\n",
      "loss: 20.307, rec: 13.580, kl: 134.545\n",
      "kl_balance: 0.0010, kl_kp: 133.907, kl_feat: 637.561\n",
      "mu max: 0.8869498372077942, mu min: -0.9854456782341003\n",
      "obj_on max: 1.0, obj_on min: 3.5418206607573666e-06\n",
      "mean psnr: 29.586\n",
      "\n",
      "bb scores: max: 32.24, min: 6.61, mean: 20.44\n",
      "\n"
     ]
    },
    {
     "data": {
      "application/vnd.jupyter.widget-view+json": {
       "model_id": "284bffc6dc58421fb76b1fd63712c450",
       "version_major": 2,
       "version_minor": 0
      },
      "text/plain": [
       "  0%|          | 0/625 [00:00<?, ?it/s]"
      ]
     },
     "metadata": {},
     "output_type": "display_data"
    },
    {
     "name": "stdout",
     "output_type": "stream",
     "text": [
      "epoch 87 summary for dec backbone: gauss_pointnetpp\n",
      "loss: 20.313, rec: 13.584, kl: 134.569\n",
      "kl_balance: 0.0010, kl_kp: 133.937, kl_feat: 631.796\n",
      "mu max: 0.8272746801376343, mu min: -0.9722304344177246\n",
      "obj_on max: 1.0, obj_on min: 1.4735333024873398e-06\n",
      "mean psnr: 29.584\n",
      "\n"
     ]
    },
    {
     "data": {
      "application/vnd.jupyter.widget-view+json": {
       "model_id": "d7b4f5e393f441ad89415931120e789a",
       "version_major": 2,
       "version_minor": 0
      },
      "text/plain": [
       "  0%|          | 0/625 [00:00<?, ?it/s]"
      ]
     },
     "metadata": {},
     "output_type": "display_data"
    },
    {
     "name": "stdout",
     "output_type": "stream",
     "text": [
      "epoch 88 summary for dec backbone: gauss_pointnetpp\n",
      "loss: 20.245, rec: 13.553, kl: 133.841\n",
      "kl_balance: 0.0010, kl_kp: 133.209, kl_feat: 632.007\n",
      "mu max: 0.9432057738304138, mu min: -0.978408932685852\n",
      "obj_on max: 1.0, obj_on min: 1.7040714737959206e-05\n",
      "mean psnr: 29.596\n",
      "\n",
      "bb scores: max: 35.45, min: 6.27, mean: 20.63\n",
      "\n"
     ]
    },
    {
     "data": {
      "application/vnd.jupyter.widget-view+json": {
       "model_id": "7c54b4b58b1e46cba0e4952cda01383c",
       "version_major": 2,
       "version_minor": 0
      },
      "text/plain": [
       "  0%|          | 0/625 [00:00<?, ?it/s]"
      ]
     },
     "metadata": {},
     "output_type": "display_data"
    },
    {
     "name": "stdout",
     "output_type": "stream",
     "text": [
      "epoch 89 summary for dec backbone: gauss_pointnetpp\n",
      "loss: 20.177, rec: 13.485, kl: 133.847\n",
      "kl_balance: 0.0010, kl_kp: 133.223, kl_feat: 623.997\n",
      "mu max: 0.9169659614562988, mu min: -0.9484029412269592\n",
      "obj_on max: 1.0, obj_on min: 6.3537909227306955e-06\n",
      "mean psnr: 29.615\n",
      "\n"
     ]
    },
    {
     "data": {
      "application/vnd.jupyter.widget-view+json": {
       "model_id": "e25e72f55c474546aedeee1fcb200df3",
       "version_major": 2,
       "version_minor": 0
      },
      "text/plain": [
       "  0%|          | 0/625 [00:00<?, ?it/s]"
      ]
     },
     "metadata": {},
     "output_type": "display_data"
    },
    {
     "name": "stdout",
     "output_type": "stream",
     "text": [
      "epoch 90 summary for dec backbone: gauss_pointnetpp\n",
      "loss: 20.198, rec: 13.515, kl: 133.648\n",
      "kl_balance: 0.0010, kl_kp: 133.027, kl_feat: 621.028\n",
      "mu max: 0.8749223947525024, mu min: -0.9844403266906738\n",
      "obj_on max: 1.0, obj_on min: 2.6625043574313167e-06\n",
      "mean psnr: 29.608\n",
      "\n",
      "bb scores: max: 32.11, min: 6.32, mean: 20.38\n",
      "\n"
     ]
    },
    {
     "data": {
      "application/vnd.jupyter.widget-view+json": {
       "model_id": "610cdaa3f9584789a21625eac8349c9d",
       "version_major": 2,
       "version_minor": 0
      },
      "text/plain": [
       "  0%|          | 0/625 [00:00<?, ?it/s]"
      ]
     },
     "metadata": {},
     "output_type": "display_data"
    },
    {
     "name": "stdout",
     "output_type": "stream",
     "text": [
      "epoch 91 summary for dec backbone: gauss_pointnetpp\n",
      "loss: 20.178, rec: 13.480, kl: 133.957\n",
      "kl_balance: 0.0010, kl_kp: 133.340, kl_feat: 617.200\n",
      "mu max: 0.8412236571311951, mu min: -0.9818705320358276\n",
      "obj_on max: 1.0, obj_on min: 6.944325286895037e-05\n",
      "mean psnr: 29.617\n",
      "\n"
     ]
    },
    {
     "data": {
      "application/vnd.jupyter.widget-view+json": {
       "model_id": "83ccbd9254eb4d58a341c4498f36f19d",
       "version_major": 2,
       "version_minor": 0
      },
      "text/plain": [
       "  0%|          | 0/625 [00:00<?, ?it/s]"
      ]
     },
     "metadata": {},
     "output_type": "display_data"
    },
    {
     "name": "stdout",
     "output_type": "stream",
     "text": [
      "epoch 92 summary for dec backbone: gauss_pointnetpp\n",
      "loss: 20.050, rec: 13.396, kl: 133.094\n",
      "kl_balance: 0.0010, kl_kp: 132.478, kl_feat: 615.220\n",
      "mu max: 0.8983055949211121, mu min: -0.9530709981918335\n",
      "obj_on max: 1.0, obj_on min: 1.3355971532291733e-05\n",
      "mean psnr: 29.647\n",
      "\n",
      "bb scores: max: 31.75, min: 6.70, mean: 20.66\n",
      "\n"
     ]
    },
    {
     "data": {
      "application/vnd.jupyter.widget-view+json": {
       "model_id": "136fab1692374ddcb4deb6873dc53f0a",
       "version_major": 2,
       "version_minor": 0
      },
      "text/plain": [
       "  0%|          | 0/625 [00:00<?, ?it/s]"
      ]
     },
     "metadata": {},
     "output_type": "display_data"
    },
    {
     "name": "stdout",
     "output_type": "stream",
     "text": [
      "epoch 93 summary for dec backbone: gauss_pointnetpp\n",
      "loss: 20.039, rec: 13.373, kl: 133.313\n",
      "kl_balance: 0.0010, kl_kp: 132.704, kl_feat: 608.700\n",
      "mu max: 0.8605939149856567, mu min: -0.9754166007041931\n",
      "obj_on max: 1.0, obj_on min: 1.6803123799036257e-05\n",
      "mean psnr: 29.654\n",
      "\n"
     ]
    },
    {
     "data": {
      "application/vnd.jupyter.widget-view+json": {
       "model_id": "668e878e70434035a1c514b7c6700c4f",
       "version_major": 2,
       "version_minor": 0
      },
      "text/plain": [
       "  0%|          | 0/625 [00:00<?, ?it/s]"
      ]
     },
     "metadata": {},
     "output_type": "display_data"
    },
    {
     "name": "stdout",
     "output_type": "stream",
     "text": [
      "epoch 94 summary for dec backbone: gauss_pointnetpp\n",
      "loss: 19.989, rec: 13.315, kl: 133.473\n",
      "kl_balance: 0.0010, kl_kp: 132.860, kl_feat: 613.688\n",
      "mu max: 0.8493151664733887, mu min: -0.977907657623291\n",
      "obj_on max: 1.0, obj_on min: 1.1165115211042576e-05\n",
      "mean psnr: 29.674\n",
      "\n",
      "bb scores: max: 30.42, min: 6.77, mean: 20.37\n",
      "\n"
     ]
    },
    {
     "data": {
      "application/vnd.jupyter.widget-view+json": {
       "model_id": "83cca9cdc67a45809d492b44a88987c4",
       "version_major": 2,
       "version_minor": 0
      },
      "text/plain": [
       "  0%|          | 0/625 [00:00<?, ?it/s]"
      ]
     },
     "metadata": {},
     "output_type": "display_data"
    },
    {
     "name": "stdout",
     "output_type": "stream",
     "text": [
      "epoch 95 summary for dec backbone: gauss_pointnetpp\n",
      "loss: 19.962, rec: 13.297, kl: 133.291\n",
      "kl_balance: 0.0010, kl_kp: 132.683, kl_feat: 608.733\n",
      "mu max: 0.8414641618728638, mu min: -0.9939790368080139\n",
      "obj_on max: 1.0, obj_on min: 1.9187655198038556e-05\n",
      "mean psnr: 29.678\n",
      "\n"
     ]
    },
    {
     "data": {
      "application/vnd.jupyter.widget-view+json": {
       "model_id": "985cd105b3904cf2990e492a2e3ecffe",
       "version_major": 2,
       "version_minor": 0
      },
      "text/plain": [
       "  0%|          | 0/625 [00:00<?, ?it/s]"
      ]
     },
     "metadata": {},
     "output_type": "display_data"
    },
    {
     "name": "stdout",
     "output_type": "stream",
     "text": [
      "epoch 96 summary for dec backbone: gauss_pointnetpp\n",
      "loss: 19.982, rec: 13.323, kl: 133.179\n",
      "kl_balance: 0.0010, kl_kp: 132.572, kl_feat: 607.072\n",
      "mu max: 0.8744240403175354, mu min: -0.9624093770980835\n",
      "obj_on max: 1.0, obj_on min: 3.4536262774054194e-06\n",
      "mean psnr: 29.671\n",
      "\n",
      "bb scores: max: 34.32, min: 6.25, mean: 20.76\n",
      "\n"
     ]
    },
    {
     "data": {
      "application/vnd.jupyter.widget-view+json": {
       "model_id": "d2a78ead2d5341079c445cc700914afe",
       "version_major": 2,
       "version_minor": 0
      },
      "text/plain": [
       "  0%|          | 0/625 [00:00<?, ?it/s]"
      ]
     },
     "metadata": {},
     "output_type": "display_data"
    },
    {
     "name": "stdout",
     "output_type": "stream",
     "text": [
      "epoch 97 summary for dec backbone: gauss_pointnetpp\n",
      "loss: 19.956, rec: 13.293, kl: 133.248\n",
      "kl_balance: 0.0010, kl_kp: 132.641, kl_feat: 606.888\n",
      "mu max: 0.8836831450462341, mu min: -0.9859519004821777\n",
      "obj_on max: 1.0, obj_on min: 7.796354111633264e-06\n",
      "mean psnr: 29.680\n",
      "\n"
     ]
    },
    {
     "data": {
      "application/vnd.jupyter.widget-view+json": {
       "model_id": "d4323716789046778b0c81d88e33ee20",
       "version_major": 2,
       "version_minor": 0
      },
      "text/plain": [
       "  0%|          | 0/625 [00:00<?, ?it/s]"
      ]
     },
     "metadata": {},
     "output_type": "display_data"
    },
    {
     "name": "stdout",
     "output_type": "stream",
     "text": [
      "epoch 98 summary for dec backbone: gauss_pointnetpp\n",
      "loss: 19.883, rec: 13.227, kl: 133.120\n",
      "kl_balance: 0.0010, kl_kp: 132.513, kl_feat: 607.411\n",
      "mu max: 0.8654155731201172, mu min: -0.995040774345398\n",
      "obj_on max: 1.0, obj_on min: 6.3751190282346215e-06\n",
      "mean psnr: 29.700\n",
      "\n",
      "bb scores: max: 32.44, min: 3.53, mean: 20.47\n",
      "\n"
     ]
    },
    {
     "data": {
      "application/vnd.jupyter.widget-view+json": {
       "model_id": "e5254b920ebe438197be137a34722ca0",
       "version_major": 2,
       "version_minor": 0
      },
      "text/plain": [
       "  0%|          | 0/625 [00:00<?, ?it/s]"
      ]
     },
     "metadata": {},
     "output_type": "display_data"
    },
    {
     "name": "stdout",
     "output_type": "stream",
     "text": [
      "epoch 99 summary for dec backbone: gauss_pointnetpp\n",
      "loss: 19.830, rec: 13.215, kl: 132.315\n",
      "kl_balance: 0.0010, kl_kp: 131.710, kl_feat: 605.558\n",
      "mu max: 0.8227019309997559, mu min: -0.9883113503456116\n",
      "obj_on max: 1.0, obj_on min: 3.5708762879949063e-06\n",
      "mean psnr: 29.704\n",
      "\n",
      "bb scores: max: 34.47, min: 5.62, mean: 20.67\n",
      "\n"
     ]
    }
   ],
   "source": [
    "# load data\n",
    "if ds == \"shapes\":\n",
    "    image_size = 64\n",
    "    ch = 3\n",
    "    enc_channels = [32, 64, 128]\n",
    "    prior_channels = (16, 32, 64)\n",
    "    print('generating random shapes dataset')\n",
    "    dataset = generate_shape_dataset_torch(num_images=40_000)\n",
    "    milestones = (20, 40, 80)\n",
    "else:\n",
    "    raise NotImplementedError\n",
    "\n",
    "# save hyper-parameters\n",
    "hparams = {'ds': ds, 'batch_size': batch_size, 'lr': lr, 'kp_activation': kp_activation, 'pad_mode': pad_mode,\n",
    "           'num_epochs': num_epochs, 'n_kp': n_kp, 'recon_loss_type': recon_loss_type,\n",
    "           'use_logsoftmax': use_logsoftmax, 'sigma': sigma, 'beta_kl': beta_kl, 'beta_rec': beta_rec,\n",
    "           'dec_bone': dec_bone, 'patch_size': patch_size, 'topk': topk, 'n_kp_enc': n_kp_enc,\n",
    "           'eval_epoch_freq': eval_epoch_freq, 'learned_feature_dim': learned_feature_dim,\n",
    "           'n_kp_prior': n_kp_prior, 'weight_decay': weight_decay, 'kp_range': kp_range,\n",
    "           'run_prefix': run_prefix, 'mask_threshold': mask_threshold, 'use_tps': use_tps, 'use_pairs': use_pairs,\n",
    "           'use_object_enc': use_object_enc, 'use_object_dec': use_object_dec, 'warmup_epoch': warmup_epoch,\n",
    "           'iou_thresh': iou_thresh, 'anchor_s': anchor_s, 'learn_order': learn_order, 'kl_balance': kl_balance,\n",
    "           'milestones': milestones, 'image_size': image_size, 'enc_channels': enc_channels,\n",
    "           'prior_channels': prior_channels, 'exclusive_patches': exclusive_patches}\n",
    "\n",
    "# create dataloader\n",
    "dataloader = DataLoader(dataset, shuffle=True, batch_size=batch_size, num_workers=0, pin_memory=True,\n",
    "                        drop_last=True)\n",
    "# model\n",
    "model = KeyPointVAE(cdim=ch, enc_channels=enc_channels, prior_channels=prior_channels,\n",
    "                    image_size=image_size, n_kp=n_kp, learned_feature_dim=learned_feature_dim,\n",
    "                    use_logsoftmax=use_logsoftmax, pad_mode=pad_mode, sigma=sigma,\n",
    "                    dropout=dropout, dec_bone=dec_bone, patch_size=patch_size, n_kp_enc=n_kp_enc,\n",
    "                    n_kp_prior=n_kp_prior, kp_range=kp_range, kp_activation=kp_activation,\n",
    "                    mask_threshold=mask_threshold, use_object_enc=use_object_enc,\n",
    "                    exclusive_patches=exclusive_patches, use_object_dec=use_object_dec, anchor_s=anchor_s,\n",
    "                    learn_order=learn_order).to(device)\n",
    "\n",
    "logvar_p = torch.log(torch.tensor(sigma ** 2)).to(device)  # logvar of the constant std -> for the kl\n",
    "# prepare saving location\n",
    "run_name = f'{ds}_dlp_{dec_bone}' + run_prefix\n",
    "log_dir = prepare_logdir(runname=run_name, src_dir='./')\n",
    "fig_dir = os.path.join(log_dir, 'figures')\n",
    "save_dir = os.path.join(log_dir, 'saves')\n",
    "save_config(log_dir, hparams)\n",
    "\n",
    "kl_loss_func = ChamferLossKL(use_reverse_kl=False)\n",
    "if recon_loss_type == \"vgg\":\n",
    "    recon_loss_func = VGGDistance(device=device)\n",
    "else:\n",
    "    recon_loss_func = calc_reconstruction_loss\n",
    "betas = (0.9, 0.999)\n",
    "eps = 1e-4\n",
    "# we use separate optimizers for the encoder and decoder, but it is not really necessary...\n",
    "optimizer_e = optim.Adam(model.get_parameters(encoder=True, prior=True, decoder=False), lr=lr, betas=betas, eps=eps,\n",
    "                         weight_decay=weight_decay)\n",
    "optimizer_d = optim.Adam(model.get_parameters(encoder=False, prior=False, decoder=True), lr=lr, betas=betas,\n",
    "                         eps=eps, weight_decay=weight_decay)\n",
    "\n",
    "scheduler_e = optim.lr_scheduler.MultiStepLR(optimizer_e, milestones=milestones, gamma=0.5)\n",
    "scheduler_d = optim.lr_scheduler.MultiStepLR(optimizer_d, milestones=milestones, gamma=0.5)\n",
    "\n",
    "if load_model:\n",
    "    try:\n",
    "        model.load_state_dict(\n",
    "            torch.load(os.path.join(save_dir, f'{ds}_dlp_{dec_bone}.pth'), map_location=device))\n",
    "        print(\"loaded model from checkpoint\")\n",
    "    except:\n",
    "        print(\"model checkpoint not found\")\n",
    "\n",
    "# statistics\n",
    "losses = []\n",
    "losses_rec = []\n",
    "losses_kl = []\n",
    "losses_kl_kp = []\n",
    "losses_kl_feat = []\n",
    "\n",
    "# save PSNR values of the reconstruction\n",
    "psnrs = []\n",
    "\n",
    "for epoch in range(num_epochs):\n",
    "    model.train()\n",
    "    batch_losses = []\n",
    "    batch_losses_rec = []\n",
    "    batch_losses_kl = []\n",
    "    batch_losses_kl_kp = []\n",
    "    batch_losses_kl_feat = []\n",
    "    batch_psnrs = []\n",
    "    pbar = tqdm(iterable=dataloader)\n",
    "    for batch in pbar:\n",
    "        if ds == 'shapes':\n",
    "            x = batch[0].to(device)\n",
    "            x_prior = x\n",
    "        else:\n",
    "            x = batch.to(device)\n",
    "            x_prior = x\n",
    "        batch_size = x.shape[0]\n",
    "        # forward pass\n",
    "        noisy_masks = (epoch < 5 * warmup_epoch)  # add small noise to the alpha masks\n",
    "        model_output = model(x, x_prior=x_prior, warmup=(epoch < warmup_epoch), noisy_masks=noisy_masks)\n",
    "        mu_p = model_output['kp_p']\n",
    "        gmap = model_output['gmap']\n",
    "        mu = model_output['mu']\n",
    "        logvar = model_output['logvar']\n",
    "        rec_x = model_output['rec']\n",
    "        mu_features = model_output['mu_features']\n",
    "        logvar_features = model_output['logvar_features']\n",
    "        # object stuff\n",
    "        dec_objects_original = model_output['dec_objects_original']\n",
    "        cropped_objects_original = model_output['cropped_objects_original']\n",
    "        obj_on = model_output['obj_on']  # [batch_size, n_kp]\n",
    "\n",
    "        # reconstruction error\n",
    "        if use_object_dec and dec_objects_original is not None and epoch < warmup_epoch:\n",
    "            # reconstruct patches in the warmup stage\n",
    "            if recon_loss_type == \"vgg\":\n",
    "                _, dec_objects_rgb = torch.split(dec_objects_original, [1, 3], dim=2)\n",
    "                dec_objects_rgb = dec_objects_rgb.reshape(-1, *dec_objects_rgb.shape[2:])\n",
    "                cropped_objects_original = cropped_objects_original.reshape(-1,\n",
    "                                                                            *cropped_objects_original.shape[2:])\n",
    "                # vgg has a minimal input size, so we interpolate if the patch is too small\n",
    "                if cropped_objects_original.shape[-1] < 32:\n",
    "                    cropped_objects_original = F.interpolate(cropped_objects_original, size=32, mode='bilinear',\n",
    "                                                             align_corners=False)\n",
    "                    dec_objects_rgb = F.interpolate(dec_objects_rgb, size=32, mode='bilinear',\n",
    "                                                    align_corners=False)\n",
    "                loss_rec_obj = recon_loss_func(cropped_objects_original, dec_objects_rgb, reduction=\"mean\")\n",
    "\n",
    "            else:\n",
    "                _, dec_objects_rgb = torch.split(dec_objects_original, [1, 3], dim=2)\n",
    "                dec_objects_rgb = dec_objects_rgb.reshape(-1, *dec_objects_rgb.shape[2:])\n",
    "                cropped_objects_original = cropped_objects_original.clone().reshape(-1,\n",
    "                                                                                    *cropped_objects_original.shape[\n",
    "                                                                                     2:])\n",
    "                loss_rec_obj = calc_reconstruction_loss(cropped_objects_original, dec_objects_rgb,\n",
    "                                                        loss_type='mse', reduction='mean')\n",
    "            loss_rec = loss_rec_obj\n",
    "        else:\n",
    "            # reconstruct full image\n",
    "            if recon_loss_type == \"vgg\":\n",
    "                loss_rec = recon_loss_func(x, rec_x, reduction=\"mean\")\n",
    "            else:\n",
    "                loss_rec = calc_reconstruction_loss(x, rec_x, loss_type='mse', reduction='mean')\n",
    "\n",
    "            with torch.no_grad():\n",
    "                psnr = -10 * torch.log10(F.mse_loss(rec_x, x))\n",
    "                batch_psnrs.append(psnr.data.cpu().item())\n",
    "\n",
    "        # kl-divergence\n",
    "        logvar_kp = logvar_p.expand_as(mu_p)\n",
    "\n",
    "        # the final kp is the bg kp which is located in the center (so no need for it)\n",
    "        # to reproduce the results on celeba, use `mu_post = mu`, `logvar_post = logvar`\n",
    "        mu_post = mu[:, :-1]\n",
    "        logvar_post = logvar[:, :-1]\n",
    "        # mu_post = mu\n",
    "        # logvar_post = logvar\n",
    "        mu_prior = mu_p\n",
    "        logvar_prior = logvar_kp\n",
    "\n",
    "        loss_kl_kp = kl_loss_func(mu_preds=mu_post, logvar_preds=logvar_post, mu_gts=mu_prior,\n",
    "                                  logvar_gts=logvar_prior).mean()\n",
    "\n",
    "        if learned_feature_dim > 0:\n",
    "            loss_kl_feat = calc_kl(logvar_features.view(-1, logvar_features.shape[-1]),\n",
    "                                   mu_features.view(-1, mu_features.shape[-1]), reduce='none')\n",
    "            loss_kl_feat = loss_kl_feat.view(batch_size, n_kp_enc + 1).sum(1).mean()\n",
    "        else:\n",
    "            loss_kl_feat = torch.tensor(0.0, device=device)\n",
    "        loss_kl = loss_kl_kp + kl_balance * loss_kl_feat\n",
    "\n",
    "        loss = beta_rec * loss_rec + beta_kl * loss_kl\n",
    "        # backprop\n",
    "        optimizer_e.zero_grad()\n",
    "        optimizer_d.zero_grad()\n",
    "        loss.backward()\n",
    "        optimizer_e.step()\n",
    "        optimizer_d.step()\n",
    "        # log\n",
    "        batch_losses.append(loss.data.cpu().item())\n",
    "        batch_losses_rec.append(loss_rec.data.cpu().item())\n",
    "        batch_losses_kl.append(loss_kl.data.cpu().item())\n",
    "        batch_losses_kl_kp.append(loss_kl_kp.data.cpu().item())\n",
    "        batch_losses_kl_feat.append(loss_kl_feat.data.cpu().item())\n",
    "        # progress bar\n",
    "        if use_object_dec and epoch < warmup_epoch:\n",
    "            pbar.set_description_str(f'epoch #{epoch} (warmup)')\n",
    "        elif use_object_dec and noisy_masks:\n",
    "            pbar.set_description_str(f'epoch #{epoch} (noisy masks)')\n",
    "        else:\n",
    "            pbar.set_description_str(f'epoch #{epoch}')\n",
    "        pbar.set_postfix(loss=loss.data.cpu().item(), rec=loss_rec.data.cpu().item(),\n",
    "                         kl=loss_kl.data.cpu().item())\n",
    "    pbar.close()\n",
    "    losses.append(np.mean(batch_losses))\n",
    "    losses_rec.append(np.mean(batch_losses_rec))\n",
    "    losses_kl.append(np.mean(batch_losses_kl))\n",
    "    losses_kl_kp.append(np.mean(batch_losses_kl_kp))\n",
    "    losses_kl_feat.append(np.mean(batch_losses_kl_feat))\n",
    "    if len(batch_psnrs) > 0:\n",
    "        psnrs.append(np.mean(batch_psnrs))\n",
    "    # keep track of bounding box scores to set a hard threshold (as bb scores are not normalized)\n",
    "    # epoch_bb_scores = torch.cat(batch_bb_scores, dim=0)\n",
    "    # bb_mean_score = epoch_bb_scores.mean().data.cpu().item()\n",
    "    # bb_mean_scores.append(bb_mean_score)\n",
    "    # schedulers\n",
    "    scheduler_e.step()\n",
    "    scheduler_d.step()\n",
    "    # epoch summary\n",
    "    log_str = f'epoch {epoch} summary for dec backbone: {dec_bone}\\n'\n",
    "    log_str += f'loss: {losses[-1]:.3f}, rec: {losses_rec[-1]:.3f}, kl: {losses_kl[-1]:.3f}\\n'\n",
    "    log_str += f'kl_balance: {kl_balance:.4f}, kl_kp: {losses_kl_kp[-1]:.3f}, kl_feat: {losses_kl_feat[-1]:.3f}\\n'\n",
    "    log_str += f'mu max: {mu.max()}, mu min: {mu.min()}\\n'\n",
    "    if obj_on is not None:\n",
    "        log_str += f'obj_on max: {obj_on.max()}, obj_on min: {obj_on.min()}\\n'\n",
    "    if len(psnrs) > 0:\n",
    "        log_str += f'mean psnr: {psnrs[-1]:.3f}\\n'\n",
    "    print(log_str)\n",
    "    log_line(log_dir, log_str)\n",
    "\n",
    "    if epoch % eval_epoch_freq == 0 or epoch == num_epochs - 1:\n",
    "        max_imgs = 8\n",
    "        img_with_kp = plot_keypoints_on_image_batch(mu[:, :-1].clamp(min=kp_range[0], max=kp_range[1]),\n",
    "                                                    x, radius=3, thickness=1, max_imgs=max_imgs, kp_range=kp_range)\n",
    "        img_with_kp_p = plot_keypoints_on_image_batch(mu_p, x_prior, radius=3, thickness=1, max_imgs=max_imgs,\n",
    "                                                      kp_range=kp_range)\n",
    "        # top-k\n",
    "        with torch.no_grad():\n",
    "            logvar_sum = logvar[:, :-1].sum(-1)\n",
    "            logvar_topk = torch.topk(logvar_sum, k=topk, dim=-1, largest=False)\n",
    "            indices = logvar_topk[1]  # [batch_size, topk]\n",
    "            batch_indices = torch.arange(mu.shape[0]).view(-1, 1).to(mu.device)\n",
    "            topk_kp = mu[batch_indices, indices]\n",
    "            # bounding boxes\n",
    "            masks = create_masks_fast(mu[:, :-1].detach(), anchor_s=model.anchor_s, feature_dim=x.shape[-1])\n",
    "            masks = torch.where(masks < mask_threshold, 0.0, 1.0)\n",
    "            bb_scores = -1 * logvar_sum\n",
    "            hard_threshold = bb_scores.mean()\n",
    "        if use_object_dec:\n",
    "            img_with_masks_nms, nms_ind = plot_bb_on_image_batch_from_masks_nms(masks, x, scores=bb_scores,\n",
    "                                                                                iou_thresh=iou_thresh,\n",
    "                                                                                thickness=1, max_imgs=max_imgs,\n",
    "                                                                                hard_thresh=hard_threshold)\n",
    "            # hard_thresh: a general threshold for bb scores (set None to not use it)\n",
    "            bb_str = f'bb scores: max: {bb_scores.max():.2f}, min: {bb_scores.min():.2f},' \\\n",
    "                     f' mean: {bb_scores.mean():.2f}\\n'\n",
    "            print(bb_str)\n",
    "        log_line(log_dir, bb_str)\n",
    "        img_with_kp_topk = plot_keypoints_on_image_batch(topk_kp.clamp(min=kp_range[0], max=kp_range[1]), x,\n",
    "                                                         radius=3, thickness=1, max_imgs=max_imgs,\n",
    "                                                         kp_range=kp_range)\n",
    "        if use_object_dec and dec_objects_original is not None:\n",
    "            dec_objects = model_output['dec_objects']\n",
    "            vutils.save_image(torch.cat([x[:max_imgs, -3:], img_with_kp[:max_imgs, -3:].to(device),\n",
    "                                         rec_x[:max_imgs, -3:], img_with_kp_p[:max_imgs, -3:].to(device),\n",
    "                                         img_with_kp_topk[:max_imgs, -3:].to(device),\n",
    "                                         dec_objects[:max_imgs, -3:],\n",
    "                                         img_with_masks_nms[:max_imgs, -3:].to(device)],\n",
    "                                        dim=0).data.cpu(), '{}/image_{}.jpg'.format(fig_dir, epoch),\n",
    "                              nrow=8, pad_value=1)\n",
    "            with torch.no_grad():\n",
    "                _, dec_objects_rgb = torch.split(dec_objects_original, [1, 3], dim=2)\n",
    "                dec_objects_rgb = dec_objects_rgb.reshape(-1, *dec_objects_rgb.shape[2:])\n",
    "                cropped_objects_original = cropped_objects_original.clone().reshape(-1, 3,\n",
    "                                                                                    cropped_objects_original.shape[\n",
    "                                                                                        -1],\n",
    "                                                                                    cropped_objects_original.shape[\n",
    "                                                                                        -1])\n",
    "                if cropped_objects_original.shape[-1] != dec_objects_rgb.shape[-1]:\n",
    "                    cropped_objects_original = F.interpolate(cropped_objects_original,\n",
    "                                                             size=dec_objects_rgb.shape[-1],\n",
    "                                                             align_corners=False, mode='bilinear')\n",
    "            vutils.save_image(\n",
    "                torch.cat([cropped_objects_original[:max_imgs * 2, -3:], dec_objects_rgb[:max_imgs * 2, -3:]],\n",
    "                          dim=0).data.cpu(), '{}/image_obj_{}.jpg'.format(fig_dir, epoch),\n",
    "                nrow=8, pad_value=1)\n",
    "        else:\n",
    "            vutils.save_image(torch.cat([x[:max_imgs, -3:], img_with_kp[:max_imgs, -3:].to(device),\n",
    "                                         rec_x[:max_imgs, -3:], img_with_kp_p[:max_imgs, -3:].to(device),\n",
    "                                         img_with_kp_topk[:max_imgs, -3:].to(device)],\n",
    "                                        dim=0).data.cpu(), '{}/image_{}.jpg'.format(fig_dir, epoch),\n",
    "                              nrow=8, pad_value=1)\n",
    "        torch.save(model.state_dict(),\n",
    "                   os.path.join(save_dir, f'{ds}_dlp_{dec_bone}{run_prefix}.pth'))\n",
    "    # plot graphs\n",
    "    if epoch > 0:\n",
    "        num_plots = 3\n",
    "        fig = plt.figure()\n",
    "        ax = fig.add_subplot(num_plots, 1, 1)\n",
    "        ax.plot(np.arange(len(losses[1:])), losses[1:], label=\"loss\")\n",
    "        ax.set_title(run_name)\n",
    "        ax.legend()\n",
    "\n",
    "        ax = fig.add_subplot(num_plots, 1, 2)\n",
    "        ax.plot(np.arange(len(losses_kl[1:])), losses_kl[1:], label=\"kl\", color='red')\n",
    "        if learned_feature_dim > 0:\n",
    "            ax.plot(np.arange(len(losses_kl_kp[1:])), losses_kl_kp[1:], label=\"kl_kp\", color='cyan')\n",
    "            ax.plot(np.arange(len(losses_kl_feat[1:])), losses_kl_feat[1:], label=\"kl_feat\", color='green')\n",
    "        ax.legend()\n",
    "\n",
    "        ax = fig.add_subplot(num_plots, 1, 3)\n",
    "        ax.plot(np.arange(len(losses_rec[1:])), losses_rec[1:], label=\"rec\", color='green')\n",
    "        ax.legend()\n",
    "        plt.tight_layout()\n",
    "        plt.savefig(f'{fig_dir}/{run_name}_graph.jpg')\n",
    "        plt.close('all')"
   ]
  },
  {
   "cell_type": "markdown",
   "id": "71d6bb46",
   "metadata": {},
   "source": [
    "#### Visualization and Manipulation\n",
    "---\n",
    "* Let's visualize some of the model's output and manipulate learned particles."
   ]
  },
  {
   "cell_type": "code",
   "execution_count": 22,
   "id": "f1989531",
   "metadata": {},
   "outputs": [],
   "source": [
    "num_images = 4\n",
    "topk = 5  # top 5 particles with highest confidence\n",
    "hard_threshold = 24  # threshold score for bounding boxes\n",
    "iou_thresh = 0.2  # IoU for non-maximal supression"
   ]
  },
  {
   "cell_type": "code",
   "execution_count": 11,
   "id": "3b5220e1",
   "metadata": {},
   "outputs": [],
   "source": [
    "gt_image = x[:num_images, -3:].permute(0, 2, 3, 1).data.cpu().numpy()\n",
    "img_with_posterior_kp = img_with_kp[:num_images, -3:].permute(0, 2, 3, 1).data.cpu().numpy()\n",
    "img_with_kp_proposals = img_with_kp_p[:num_images, -3:].permute(0, 2, 3, 1).data.cpu().numpy()"
   ]
  },
  {
   "cell_type": "code",
   "execution_count": 12,
   "id": "3131a95e",
   "metadata": {},
   "outputs": [
    {
     "data": {
      "image/png": "[encoded data removed]",
      "text/plain": [
       "<Figure size 720x720 with 4 Axes>"
      ]
     },
     "metadata": {
      "needs_background": "light"
     },
     "output_type": "display_data"
    }
   ],
   "source": [
    "fig = plt.figure(figsize=(10, 10))\n",
    "for i in range(num_images):\n",
    "    ax = fig.add_subplot(1, num_images, i + 1)\n",
    "    ax.imshow(gt_image[i])\n",
    "    ax.set_axis_off()\n",
    "    if i == 0:\n",
    "        ax.set_title('ground truth image')"
   ]
  },
  {
   "cell_type": "code",
   "execution_count": 13,
   "id": "98fff901",
   "metadata": {},
   "outputs": [
    {
     "data": {
      "image/png": "[encoded data removed]",
      "text/plain": [
       "<Figure size 720x720 with 4 Axes>"
      ]
     },
     "metadata": {
      "needs_background": "light"
     },
     "output_type": "display_data"
    }
   ],
   "source": [
    "fig = plt.figure(figsize=(10, 10))\n",
    "for i in range(num_images):\n",
    "    ax = fig.add_subplot(1, num_images, i + 1)\n",
    "    ax.imshow(img_with_posterior_kp[i])\n",
    "    ax.set_axis_off()\n",
    "    if i == 0:\n",
    "        ax.set_title('learned particles')"
   ]
  },
  {
   "cell_type": "code",
   "execution_count": 15,
   "id": "bfd11704",
   "metadata": {},
   "outputs": [
    {
     "data": {
      "image/png": "[encoded data removed]",
      "text/plain": [
       "<Figure size 720x720 with 4 Axes>"
      ]
     },
     "metadata": {
      "needs_background": "light"
     },
     "output_type": "display_data"
    }
   ],
   "source": [
    "fig = plt.figure(figsize=(10, 10))\n",
    "for i in range(num_images):\n",
    "    ax = fig.add_subplot(1, num_images, i + 1)\n",
    "    ax.imshow(img_with_kp_proposals[i])\n",
    "    ax.set_axis_off()\n",
    "    if i == 0:\n",
    "        ax.set_title('keypoint proposals (prior)')"
   ]
  },
  {
   "cell_type": "code",
   "execution_count": 17,
   "id": "9513f861",
   "metadata": {},
   "outputs": [],
   "source": [
    "# top-k\n",
    "with torch.no_grad():\n",
    "    logvar_sum = logvar[:, :-1].sum(-1)\n",
    "    logvar_topk = torch.topk(logvar_sum, k=topk, dim=-1, largest=False)\n",
    "    indices = logvar_topk[1]  # [batch_size, topk]\n",
    "    batch_indices = torch.arange(mu.shape[0]).view(-1, 1).to(mu.device)\n",
    "    topk_kp = mu[batch_indices, indices]\n",
    "    img_with_kp_topk = plot_keypoints_on_image_batch(topk_kp.clamp(min=kp_range[0], max=kp_range[1]), x,\n",
    "                                                         radius=3, thickness=1, max_imgs=max_imgs,\n",
    "                                                         kp_range=kp_range)\n",
    "    img_with_topk_kp = img_with_kp_topk[:num_images, -3:].permute(0, 2, 3, 1).data.cpu().numpy()"
   ]
  },
  {
   "cell_type": "code",
   "execution_count": 18,
   "id": "9b4afcc3",
   "metadata": {},
   "outputs": [
    {
     "data": {
      "image/png": "[encoded data removed]",
      "text/plain": [
       "<Figure size 720x720 with 4 Axes>"
      ]
     },
     "metadata": {
      "needs_background": "light"
     },
     "output_type": "display_data"
    }
   ],
   "source": [
    "fig = plt.figure(figsize=(10, 10))\n",
    "for i in range(num_images):\n",
    "    ax = fig.add_subplot(1, num_images, i + 1)\n",
    "    ax.imshow(img_with_topk_kp[i])\n",
    "    ax.set_axis_off()\n",
    "    if i == 0:\n",
    "        ax.set_title(f'top-{topk} particles')"
   ]
  },
  {
   "cell_type": "code",
   "execution_count": 23,
   "id": "8cbe5dc2",
   "metadata": {},
   "outputs": [],
   "source": [
    "# bounding boxes\n",
    "with torch.no_grad():\n",
    "    masks = create_masks_fast(mu[:, :-1].detach(), anchor_s=model.anchor_s, feature_dim=x.shape[-1])\n",
    "    masks = torch.where(masks < mask_threshold, 0.0, 1.0)\n",
    "    img_with_masks_nms, nms_ind = plot_bb_on_image_batch_from_masks_nms(masks, x, scores=bb_scores,\n",
    "                                                                        iou_thresh=iou_thresh,\n",
    "                                                                        thickness=1, max_imgs=max_imgs,\n",
    "                                                                        hard_thresh=hard_threshold)\n",
    "    img_with_bb = img_with_masks_nms[:num_images, -3:].permute(0, 2, 3, 1).data.cpu().numpy()"
   ]
  },
  {
   "cell_type": "code",
   "execution_count": 24,
   "id": "0b494cf6",
   "metadata": {},
   "outputs": [
    {
     "data": {
      "image/png": "[encoded data removed]",
      "text/plain": [
       "<Figure size 720x720 with 4 Axes>"
      ]
     },
     "metadata": {
      "needs_background": "light"
     },
     "output_type": "display_data"
    }
   ],
   "source": [
    "# this can be further improved with smarter thresholding and learning the scale of the boxes\n",
    "fig = plt.figure(figsize=(10, 10))\n",
    "for i in range(num_images):\n",
    "    ax = fig.add_subplot(1, num_images, i + 1)\n",
    "    ax.imshow(img_with_bb[i])\n",
    "    ax.set_axis_off()\n",
    "    if i == 0:\n",
    "        ax.set_title(f'bounding boxes')"
   ]
  },
  {
   "cell_type": "code",
   "execution_count": 27,
   "id": "cd0839dd",
   "metadata": {},
   "outputs": [],
   "source": [
    "# reconstruction and generated objects\n",
    "reconsturction = rec_x[:num_images, -3:].permute(0, 2, 3, 1).data.cpu().numpy().clip(0, 1)\n",
    "all_objects_with_masks = dec_objects[:num_images, -3:].permute(0, 2, 3, 1).data.cpu().numpy().clip(0, 1)"
   ]
  },
  {
   "cell_type": "code",
   "execution_count": 28,
   "id": "fb092909",
   "metadata": {},
   "outputs": [
    {
     "data": {
      "image/png": "[encoded data removed]",
      "text/plain": [
       "<Figure size 720x720 with 4 Axes>"
      ]
     },
     "metadata": {
      "needs_background": "light"
     },
     "output_type": "display_data"
    }
   ],
   "source": [
    "fig = plt.figure(figsize=(10, 10))\n",
    "for i in range(num_images):\n",
    "    ax = fig.add_subplot(1, num_images, i + 1)\n",
    "    ax.imshow(reconsturction[i])\n",
    "    ax.set_axis_off()\n",
    "    if i == 0:\n",
    "        ax.set_title(f'reconstructions')"
   ]
  },
  {
   "cell_type": "code",
   "execution_count": 29,
   "id": "34160d3a",
   "metadata": {},
   "outputs": [
    {
     "data": {
      "image/png": "[encoded data removed]",
      "text/plain": [
       "<Figure size 720x720 with 4 Axes>"
      ]
     },
     "metadata": {
      "needs_background": "light"
     },
     "output_type": "display_data"
    }
   ],
   "source": [
    "fig = plt.figure(figsize=(10, 10))\n",
    "for i in range(num_images):\n",
    "    ax = fig.add_subplot(1, num_images, i + 1)\n",
    "    ax.imshow(all_objects_with_masks[i])\n",
    "    ax.set_axis_off()\n",
    "    if i == 0:\n",
    "        ax.set_title(f'objects and masks')"
   ]
  },
  {
   "cell_type": "code",
   "execution_count": 32,
   "id": "77eabf00",
   "metadata": {},
   "outputs": [],
   "source": [
    "# manipulation - let's move the particles a bit and see what happens\n",
    "mu_manip = mu + 0.3\n",
    "with torch.no_grad():\n",
    "    rec_new, _, _ = model.decode_all(mu_manip, mu_features, kp_heatmap=None, obj_on=obj_on, deterministic=True)\n",
    "    rec_new = rec_new.clamp(0, 1)\n",
    "    manip_reconstruction = rec_new[:num_images, -3:].permute(0, 2, 3, 1).data.cpu().numpy().clip(0, 1)"
   ]
  },
  {
   "cell_type": "code",
   "execution_count": 33,
   "id": "008f61cf",
   "metadata": {},
   "outputs": [
    {
     "data": {
      "image/png": "[encoded data removed]",
      "text/plain": [
       "<Figure size 720x720 with 4 Axes>"
      ]
     },
     "metadata": {
      "needs_background": "light"
     },
     "output_type": "display_data"
    }
   ],
   "source": [
    "fig = plt.figure(figsize=(10, 10))\n",
    "for i in range(num_images):\n",
    "    ax = fig.add_subplot(1, num_images, i + 1)\n",
    "    ax.imshow(manip_reconstruction[i])\n",
    "    ax.set_axis_off()\n",
    "    if i == 0:\n",
    "        ax.set_title(f'manipulation')"
   ]
  },
  {
   "cell_type": "markdown",
   "id": "29d394c1",
   "metadata": {},
   "source": [
    "### <img src=\"https://img.icons8.com/doodle/96/000000/where-to-quest.png\" style=\"height:50px;display:inline\">  Where to Next?\n",
    "---\n",
    "There is a lot of room for improvement:\n",
    "* Try to replace the MSE reconstruction loss with perceptual (VGG) loss.\n",
    "* Try to manipulate the features of each particle as well.\n",
    "* Architecture-wise: try replacing BatchNorm with GroupNorm, maybe other components will work better.\n",
    "* Hyper-parameters: try playing with the `beta_kl` and `kl_balance`.\n",
    "* What is the effect of the learned features dimensions?\n",
    "\n",
    "We think DLP is a super interesting framework, results can be pushed even further with more engineering!"
   ]
  },
  {
   "cell_type": "markdown",
   "id": "955e3035",
   "metadata": {},
   "source": [
    "## <img src=\"https://img.icons8.com/dusk/64/000000/prize.png\" style=\"height:50px;display:inline\"> Credits\n",
    "---\n",
    "* Icons from <a href=\"https://icons8.com/\">Icon8.com</a> - https://icons8.com"
   ]
  }
 ],
 "metadata": {
  "kernelspec": {
   "display_name": "Python 3 (ipykernel)",
   "language": "python",
   "name": "python3"
  },
  "language_info": {
   "codemirror_mode": {
    "name": "ipython",
    "version": 3
   },
   "file_extension": ".py",
   "mimetype": "text/x-python",
   "name": "python",
   "nbconvert_exporter": "python",
   "pygments_lexer": "ipython3",
   "version": "3.7.11"
  }
 },
 "nbformat": 4,
 "nbformat_minor": 5
}
